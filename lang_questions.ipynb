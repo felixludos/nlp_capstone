{
 "cells": [
  {
   "cell_type": "code",
   "execution_count": 2,
   "metadata": {},
   "outputs": [],
   "source": [
    "import sys, os, time\n",
    "import numpy as np\n",
    "%matplotlib inline\n",
    "import matplotlib.pyplot as plt\n",
    "from tqdm import tqdm\n",
    "from collections import Counter\n",
    "import csv\n",
    "import json\n",
    "import util\n",
    "import nltk\n",
    "from nltk.stem.wordnet import WordNetLemmatizer\n",
    "from nltk.tokenize import word_tokenize\n",
    "from nltk.corpus import wordnet as wn\n",
    "\n",
    "from nltk.corpus import stopwords \n",
    "from nltk.tokenize import word_tokenize, sent_tokenize "
   ]
  },
  {
   "cell_type": "code",
   "execution_count": 27,
   "metadata": {},
   "outputs": [
    {
     "name": "stdout",
     "output_type": "stream",
     "text": [
      "[nltk_data] Downloading package wordnet to /home/fleeb/nltk_data...\n",
      "[nltk_data]   Unzipping corpora/wordnet.zip.\n"
     ]
    },
    {
     "data": {
      "text/plain": [
       "True"
      ]
     },
     "execution_count": 27,
     "metadata": {},
     "output_type": "execute_result"
    }
   ],
   "source": [
    "nltk.download('wordnet')"
   ]
  },
  {
   "cell_type": "code",
   "execution_count": 28,
   "metadata": {},
   "outputs": [],
   "source": [
    "stop_words = set(stopwords.words('english')) \n",
    "\n",
    "txt = \"Sukanya, Rajib and Naba are my good friends. \" \\\n",
    "    \"Sukanya is getting married next year. \" \\\n",
    "    \"Marriage is a big step in one’s life. \" \\\n",
    "    \"It is both exciting and frightening. \" \\\n",
    "    \"But friendship is a sacred bond between people. \" \\\n",
    "    \"It is a special kind of love between us. \" \\\n",
    "    \"Many of you must have tried searching for a friend \"\\\n",
    "    \"but never found the right one.\"\n",
    "\n",
    "tokens = word_tokenize(txt)"
   ]
  },
  {
   "cell_type": "code",
   "execution_count": 29,
   "metadata": {},
   "outputs": [],
   "source": [
    "root = r'/mnt/c/Users/anwan/OneDrive - UW Office 365/Khan/Capstone/aristo-mini/questions'\n",
    "root = r'aristo-mini/questions'\n",
    "filenames = ['AI2-Elementary-NDMC-Feb2016-Dev.jsonl', 'AI2-8thGr-NDMC-Feb2016-Dev.jsonl']"
   ]
  },
  {
   "cell_type": "code",
   "execution_count": 30,
   "metadata": {},
   "outputs": [
    {
     "data": {
      "text/plain": [
       "84"
      ]
     },
     "execution_count": 30,
     "metadata": {},
     "output_type": "execute_result"
    }
   ],
   "source": [
    "questions = []\n",
    "with open(os.path.join(root, filenames[0]), 'r') as f:\n",
    "    lines = f.readlines()\n",
    "    for line in lines:\n",
    "        questions.append(json.loads(line))\n",
    "len(questions)"
   ]
  },
  {
   "cell_type": "code",
   "execution_count": 31,
   "metadata": {},
   "outputs": [
    {
     "data": {
      "text/plain": [
       "{'id': '89629',\n",
       " 'question': {'stem': 'Which of the following groups of materials would most likely be used to build an electromagnet?',\n",
       "  'choices': [{'label': 'A', 'text': 'bare wire, plastic rod, battery'},\n",
       "   {'label': 'B', 'text': 'bare wire, iron rod, light bulb'},\n",
       "   {'label': 'C', 'text': 'insulated wire, iron rod, battery'},\n",
       "   {'label': 'D', 'text': 'insulated wire, plastic rod, light bulb'}]},\n",
       " 'answerKey': 'C'}"
      ]
     },
     "execution_count": 31,
     "metadata": {},
     "output_type": "execute_result"
    }
   ],
   "source": [
    "questions[0]"
   ]
  },
  {
   "cell_type": "code",
   "execution_count": 32,
   "metadata": {},
   "outputs": [
    {
     "data": {
      "text/plain": [
       "'Which of the following groups of materials would most likely be used to build an electromagnet?'"
      ]
     },
     "execution_count": 32,
     "metadata": {},
     "output_type": "execute_result"
    }
   ],
   "source": [
    "questions[0]['question']['stem']"
   ]
  },
  {
   "cell_type": "code",
   "execution_count": 33,
   "metadata": {},
   "outputs": [],
   "source": [
    "\n",
    "def is_noun(tag):\n",
    "    return tag in ['NN', 'NNS', 'NNP', 'NNPS']\n",
    "\n",
    "def is_verb(tag):\n",
    "    return tag in ['VB', 'VBD', 'VBG', 'VBN', 'VBP', 'VBZ']\n",
    "\n",
    "def is_adverb(tag):\n",
    "    return tag in ['RB', 'RBR', 'RBS']\n",
    "\n",
    "def is_adjective(tag):\n",
    "    return tag in ['JJ', 'JJR', 'JJS']\n",
    "\n",
    "def penn_to_wn(tag):\n",
    "    if is_adjective(tag):\n",
    "        return wn.ADJ\n",
    "    elif is_noun(tag):\n",
    "        return wn.NOUN\n",
    "    elif is_adverb(tag):\n",
    "        return wn.ADV\n",
    "    elif is_verb(tag):\n",
    "        return wn.VERB\n",
    "    return wn.NOUN\n",
    "\n",
    "def normalize_text(text):\n",
    "\n",
    "    tags = nltk.pos_tag(word_tokenize(text))\n",
    "    tokens = []\n",
    "    for tag in tags:\n",
    "        wn_tag = penn_to_wn(tag[1])\n",
    "        tokens.append(WordNetLemmatizer().lemmatize(tag[0],wn_tag))\n",
    "    return tokens"
   ]
  },
  {
   "cell_type": "code",
   "execution_count": 34,
   "metadata": {},
   "outputs": [],
   "source": [
    "def filter_tokens(tok):\n",
    "    return len(tok) > 1 and tok != '___'\n",
    "\n",
    "def bag_text(text):\n",
    "    return Counter(tok for tok in normalize_text(text.lower()) if filter_tokens(tok))\n",
    "\n",
    "def bag_question(q):\n",
    "    bag = bag_text(q['question']['stem'])\n",
    "    for ans in q['question']['choices']:\n",
    "        bag += bag_text(ans['text'])\n",
    "    return bag\n",
    "\n",
    "def tfidf(bag, full):\n",
    "    terms = []\n",
    "    for x, tf in bag.items():\n",
    "        df = full[x]\n",
    "        terms.append((x, tf/df))\n",
    "    return sorted(terms, reverse=True, key=lambda t: t[1])\n"
   ]
  },
  {
   "cell_type": "code",
   "execution_count": 52,
   "metadata": {},
   "outputs": [],
   "source": [
    "#bag_question(questions[0])"
   ]
  },
  {
   "cell_type": "code",
   "execution_count": 36,
   "metadata": {},
   "outputs": [
    {
     "data": {
      "text/plain": [
       "{'id': '89629',\n",
       " 'question': {'stem': 'Which of the following groups of materials would most likely be used to build an electromagnet?',\n",
       "  'choices': [{'label': 'A', 'text': 'bare wire, plastic rod, battery'},\n",
       "   {'label': 'B', 'text': 'bare wire, iron rod, light bulb'},\n",
       "   {'label': 'C', 'text': 'insulated wire, iron rod, battery'},\n",
       "   {'label': 'D', 'text': 'insulated wire, plastic rod, light bulb'}]},\n",
       " 'answerKey': 'C'}"
      ]
     },
     "execution_count": 36,
     "metadata": {},
     "output_type": "execute_result"
    }
   ],
   "source": [
    "questions[0]"
   ]
  },
  {
   "cell_type": "code",
   "execution_count": 37,
   "metadata": {},
   "outputs": [
    {
     "data": {
      "text/plain": [
       "84"
      ]
     },
     "execution_count": 37,
     "metadata": {},
     "output_type": "execute_result"
    }
   ],
   "source": [
    "bags = [bag_question(q) for q in questions]\n",
    "len(bags)"
   ]
  },
  {
   "cell_type": "code",
   "execution_count": 38,
   "metadata": {},
   "outputs": [
    {
     "data": {
      "text/plain": [
       "1056"
      ]
     },
     "execution_count": 38,
     "metadata": {},
     "output_type": "execute_result"
    }
   ],
   "source": [
    "full = Counter()\n",
    "for bag in bags:\n",
    "    full += bag\n",
    "len(full)"
   ]
  },
  {
   "cell_type": "code",
   "execution_count": 44,
   "metadata": {},
   "outputs": [
    {
     "name": "stdout",
     "output_type": "stream",
     "text": [
      "Solar panels are used to absorb sunlight. Which color panel would absorb the most sunlight?\n",
      "12 [('absorb', 0.6666666666666666), ('panel', 0.5), ('sunlight', 0.4), ('color', 0.2), ('solar', 0.14285714285714285), ('would', 0.047619047619047616), ('most', 0.045454545454545456), ('use', 0.043478260869565216), ('which', 0.018518518518518517), ('to', 0.011764705882352941)]\n"
     ]
    }
   ],
   "source": [
    "idx = np.random.randint(len(questions))\n",
    "q, bag = questions[idx], bags[idx]\n",
    "print(q['question']['stem'])\n",
    "values = tfidf(bag_text(q['question']['stem']), full)\n",
    "print(len(values), values[:10])"
   ]
  },
  {
   "cell_type": "code",
   "execution_count": null,
   "metadata": {},
   "outputs": [],
   "source": [
    "values = tfidf(bag_text(q['question']['stem']) + , full)\n",
    "print(len(values), values[:10])"
   ]
  },
  {
   "cell_type": "code",
   "execution_count": 53,
   "metadata": {},
   "outputs": [],
   "source": [
    "bag = bag_text(q['question']['stem'])\n",
    "for choice in q['question']['choices']:\n",
    "    ans = bag_text(choice['text']) + bag\n",
    "#     ans.subtract(bag)\n",
    "#     ans = Counter(w for w, n in ans.items() if n > 0)\n",
    "    vals = tfidf(ans, full)\n",
    "    top = [w for w,v in vals[:10]]\n",
    "    critical = [w for w, v in vals if v > 0.3]\n",
    "    picks = top if len(top) > len(critical) else critical\n",
    "    break"
   ]
  },
  {
   "cell_type": "code",
   "execution_count": null,
   "metadata": {},
   "outputs": [],
   "source": []
  },
  {
   "cell_type": "code",
   "execution_count": 54,
   "metadata": {},
   "outputs": [
    {
     "data": {
      "text/plain": [
       "['black',\n",
       " 'absorb',\n",
       " 'panel',\n",
       " 'sunlight',\n",
       " 'color',\n",
       " 'solar',\n",
       " 'would',\n",
       " 'most',\n",
       " 'use',\n",
       " 'which']"
      ]
     },
     "execution_count": 54,
     "metadata": {},
     "output_type": "execute_result"
    }
   ],
   "source": [
    "picks"
   ]
  },
  {
   "cell_type": "code",
   "execution_count": null,
   "metadata": {},
   "outputs": [],
   "source": []
  }
 ],
 "metadata": {
  "kernelspec": {
   "display_name": "Python 3",
   "language": "python",
   "name": "python3"
  },
  "language_info": {
   "codemirror_mode": {
    "name": "ipython",
    "version": 3
   },
   "file_extension": ".py",
   "mimetype": "text/x-python",
   "name": "python",
   "nbconvert_exporter": "python",
   "pygments_lexer": "ipython3",
   "version": "3.7.2"
  }
 },
 "nbformat": 4,
 "nbformat_minor": 2
}

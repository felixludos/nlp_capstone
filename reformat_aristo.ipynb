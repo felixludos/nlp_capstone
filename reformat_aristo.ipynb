{
 "cells": [
  {
   "cell_type": "code",
   "execution_count": 1,
   "metadata": {},
   "outputs": [],
   "source": [
    "import sys, os, time\n",
    "import numpy as np\n",
    "from tqdm import tqdm\n",
    "import csv"
   ]
  },
  {
   "cell_type": "code",
   "execution_count": 6,
   "metadata": {},
   "outputs": [],
   "source": [
    "path = '../../../Downloads/aristo-tuple-kb-v5-mar2017/aristo-tuple-kb-v5-mar2017/COMBINED-KB.tsv'\n",
    "wpath = '../../../Downloads/aristo-tuple-kb-v5-mar2017/aristo-tuple-kb-v5-mar2017/aristo.txt'\n",
    "# wpath = '../../../Downloads/aristo-tuple-kb-v5-mar2017/aristo.txt'\n",
    "# wpath = '../../../Downloads/aristo-tuple-kb-v5-mar2017/aristo_sentences.txt'\n",
    "# path = '../../../Downloads/aristo-tuple-kb-v5-mar2017/COMBINED-KB.tsv'"
   ]
  },
  {
   "cell_type": "code",
   "execution_count": 7,
   "metadata": {},
   "outputs": [
    {
     "name": "stderr",
     "output_type": "stream",
     "text": [
      "282595it [00:01, 234658.53it/s]\n"
     ]
    }
   ],
   "source": [
    "with open(path, 'r') as tsvfile:\n",
    "    with open(wpath, 'w') as writefile:\n",
    "        reader = csv.reader(tsvfile, delimiter='\\t')\n",
    "        for i, row in tqdm(enumerate(reader)):\n",
    "#             print('\\t'.join(row[2:5])+'\\n')\n",
    "#             break\n",
    "            if i > 0:\n",
    "                #writefile.write(row[5]+'\\n')\n",
    "                writefile.write('\\t'.join(row[2:5])+'\\n')\n",
    "                "
   ]
  },
  {
   "cell_type": "code",
   "execution_count": null,
   "metadata": {
    "collapsed": true
   },
   "outputs": [],
   "source": []
  },
  {
   "cell_type": "code",
   "execution_count": null,
   "metadata": {
    "collapsed": true
   },
   "outputs": [],
   "source": []
  },
  {
   "cell_type": "code",
   "execution_count": null,
   "metadata": {
    "collapsed": true
   },
   "outputs": [],
   "source": []
  },
  {
   "cell_type": "code",
   "execution_count": null,
   "metadata": {
    "collapsed": true
   },
   "outputs": [],
   "source": []
  }
 ],
 "metadata": {
  "kernelspec": {
   "display_name": "Python 3",
   "language": "python",
   "name": "python3"
  },
  "language_info": {
   "codemirror_mode": {
    "name": "ipython",
    "version": 3
   },
   "file_extension": ".py",
   "mimetype": "text/x-python",
   "name": "python",
   "nbconvert_exporter": "python",
   "pygments_lexer": "ipython3",
   "version": "3.7.2"
  }
 },
 "nbformat": 4,
 "nbformat_minor": 2
}

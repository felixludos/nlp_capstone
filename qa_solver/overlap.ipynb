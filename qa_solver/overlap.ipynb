{
 "cells": [
  {
   "cell_type": "code",
   "execution_count": 1,
   "metadata": {
    "collapsed": false,
    "pycharm": {
     "name": "#%%\n"
    }
   },
   "outputs": [],
   "source": [
    "from argparse import Namespace\n",
    "\n",
    "import matplotlib.pyplot as plt\n",
    "import numpy as np\n",
    "import torch\n",
    "import torch.nn.functional as F\n",
    "from torch import nn\n",
    "from torch.nn.modules.distance import PairwiseDistance, CosineSimilarity\n",
    "from torch.utils.data import Dataset, DataLoader\n",
    "from tqdm import tqdm"
   ]
  },
  {
   "cell_type": "code",
   "execution_count": 2,
   "metadata": {
    "collapsed": false,
    "pycharm": {
     "name": "#%%\n"
    }
   },
   "outputs": [],
   "source": [
    "args = Namespace()\n",
    "\n",
    "args.kb_embedding_path = '../data-nb/fast_table.pth.tar'\n",
    "args.generated_embedding_path = '../data-nb/oie_table.pth.tar'\n",
    "\n",
    "args.dim = 300\n",
    "args.device = 'cuda:0'\n",
    "\n",
    "args.kb_batch_size = 4096\n",
    "args.generated_batch_size = 1  # TODO: use a faster distance function that allows batching here\n",
    "args.num_workers = 8\n",
    "\n",
    "args.loss_type = 'mse'"
   ]
  },
  {
   "cell_type": "code",
   "execution_count": 3,
   "metadata": {
    "collapsed": false,
    "pycharm": {
     "name": "#%%\n"
    }
   },
   "outputs": [],
   "source": [
    "class Embedding(Dataset):\n",
    "    def __init__(self, path):\n",
    "        super().__init__()\n",
    "        data = torch.load(path)\n",
    "        self.tuples = data['rows']\n",
    "        self.table = dict(zip(data['elements'], data['vecs']))\n",
    "\n",
    "    def convert(self, word):\n",
    "        return torch.from_numpy(self.table[word])\n",
    "\n",
    "    def __len__(self):\n",
    "        return len(self.tuples)\n",
    "\n",
    "    def __getitem__(self, idx):\n",
    "        return torch.cat([self.convert(w) for w in self.tuples[idx]], -1)"
   ]
  },
  {
   "cell_type": "code",
   "execution_count": 4,
   "metadata": {
    "collapsed": false,
    "pycharm": {
     "name": "#%%\n"
    }
   },
   "outputs": [
    {
     "data": {
      "text/plain": [
       "69"
      ]
     },
     "execution_count": 4,
     "metadata": {},
     "output_type": "execute_result"
    }
   ],
   "source": [
    "kb_dataset = Embedding(args.kb_embedding_path)\n",
    "kb_data_loader = DataLoader(kb_dataset,\n",
    "                            num_workers=args.num_workers,\n",
    "                            batch_size=args.kb_batch_size,\n",
    "                            shuffle=False)\n",
    "len(kb_data_loader)"
   ]
  },
  {
   "cell_type": "code",
   "execution_count": 5,
   "metadata": {
    "collapsed": false,
    "pycharm": {
     "name": "#%%\n"
    }
   },
   "outputs": [
    {
     "data": {
      "text/plain": [
       "3793"
      ]
     },
     "execution_count": 5,
     "metadata": {},
     "output_type": "execute_result"
    }
   ],
   "source": [
    "generated_dataset = Embedding(args.generated_embedding_path)\n",
    "generated_data_loader = DataLoader(generated_dataset,\n",
    "                                   num_workers=args.num_workers,\n",
    "                                   batch_size=args.generated_batch_size,\n",
    "                                   shuffle=False)\n",
    "len(generated_data_loader)"
   ]
  },
  {
   "cell_type": "code",
   "execution_count": 6,
   "metadata": {
    "collapsed": false,
    "pycharm": {
     "name": "#%%\n"
    }
   },
   "outputs": [],
   "source": [
    "class Aggregator(nn.Module):\n",
    "    def __init__(self, criterion='mean', k=10, largest=True):\n",
    "        super().__init__()\n",
    "        self.crit = criterion\n",
    "\n",
    "        self.k = k\n",
    "        self.largest = largest\n",
    "\n",
    "        self.reset()\n",
    "\n",
    "    def reset(self):\n",
    "        self.best = None\n",
    "        self.N = 0\n",
    "\n",
    "    def forward(self, cands):\n",
    "        N = cands.size(-1)\n",
    "\n",
    "        if self.crit in {'top', 'extrema'} and self.best is not None:\n",
    "            cands = torch.cat([self.best, cands], -1)\n",
    "\n",
    "        if self.crit == 'top':\n",
    "            self.best = cands.topk(self.k, dim=-1, largest=self.largest)[0]\n",
    "        elif self.crit == 'mean':\n",
    "            cands = cands.sum(-1, keepdim=True)\n",
    "\n",
    "            if self.best is not None:\n",
    "                self.best += cands\n",
    "            else:\n",
    "                self.best = cands\n",
    "\n",
    "            self.N += N\n",
    "\n",
    "    def get_result(self):\n",
    "        assert self.best is not None\n",
    "\n",
    "        best = self.best\n",
    "\n",
    "        if self.crit == 'mean':\n",
    "            best = self.best / self.N\n",
    "\n",
    "        return best"
   ]
  },
  {
   "cell_type": "code",
   "execution_count": 7,
   "metadata": {
    "collapsed": false,
    "pycharm": {
     "name": "#%%\n"
    }
   },
   "outputs": [],
   "source": [
    "def cosd(x, y):\n",
    "    if x.ndimension() == 1:\n",
    "        x = x.unsqueeze(0)\n",
    "    if y.ndimension() == 1:\n",
    "        y = y.unsqueeze(0)\n",
    "    x = F.normalize(x, 2, -1)\n",
    "    y = F.normalize(y, 2, -1)\n",
    "    return -x @ y.transpose(-1, -2) / 2 + .5\n",
    "\n",
    "\n",
    "def l2(x, y):\n",
    "    if x.ndimension() == 1:\n",
    "        x = x.unsqueeze(0)\n",
    "    if y.ndimension() == 1:\n",
    "        y = y.unsqueeze(0)\n",
    "    x = x.unsqueeze(-2)\n",
    "    y = y.unsqueeze(-3)    \n",
    "    return (x - y).pow(2).mean(-1)"
   ]
  },
  {
   "cell_type": "code",
   "execution_count": null,
   "metadata": {
    "collapsed": false,
    "pycharm": {
     "name": "#%%\n"
    }
   },
   "outputs": [
    {
     "name": "stderr",
     "output_type": "stream",
     "text": [
      "  7%|▋         | 250/3793 [07:50<1:42:45,  1.74s/it]"
     ]
    }
   ],
   "source": [
    "agg = Aggregator('top', k=10, largest=False)  # can also use 'mean'\n",
    "dist_fn = PairwiseDistance(p=np.inf)\n",
    "\n",
    "outs = []\n",
    "for i, generated_embedding in enumerate(tqdm(generated_data_loader)):\n",
    "    agg.reset()\n",
    "\n",
    "    for kb_embedding in kb_data_loader:\n",
    "        distance = dist_fn(generated_embedding, kb_embedding)\n",
    "        agg(distance)\n",
    "\n",
    "    outs.append(agg.get_result())\n",
    "\n",
    "outs = torch.cat(outs, 0)\n",
    "outs.shape"
   ]
  },
  {
   "cell_type": "code",
   "execution_count": 26,
   "metadata": {},
   "outputs": [
    {
     "data": {
      "text/plain": [
       "torch.Size([256, 10])"
      ]
     },
     "execution_count": 26,
     "metadata": {},
     "output_type": "execute_result"
    }
   ],
   "source": [
    "outs[0].shape"
   ]
  },
  {
   "cell_type": "code",
   "execution_count": null,
   "metadata": {
    "collapsed": false,
    "pycharm": {
     "name": "#%%\n"
    }
   },
   "outputs": [],
   "source": [
    "losses = outs.mean(-1)"
   ]
  },
  {
   "cell_type": "code",
   "execution_count": null,
   "metadata": {
    "collapsed": false,
    "pycharm": {
     "name": "#%%\n"
    }
   },
   "outputs": [],
   "source": [
    "# torch.save(losses, 'oie_overlap.pth.tar')"
   ]
  },
  {
   "cell_type": "code",
   "execution_count": null,
   "metadata": {
    "collapsed": false,
    "pycharm": {
     "name": "#%%\n"
    }
   },
   "outputs": [],
   "source": [
    "plt.hist(losses.numpy(), bins=120)"
   ]
  },
  {
   "cell_type": "code",
   "execution_count": null,
   "metadata": {
    "collapsed": false,
    "pycharm": {
     "name": "#%%\n"
    }
   },
   "outputs": [],
   "source": [
    "# Print statistics\n",
    "idx = losses.argsort().numpy()\n",
    "options = np.array(generated_dataset.tuples)\n",
    "\n",
    "k = 100\n",
    "\n",
    "print('top {}'.format(k))\n",
    "for o in options[idx[:k]]:\n",
    "    print('{:<15} {:<15} {:<15}'.format(*o))\n",
    "\n",
    "print('bottom {}'.format(k))\n",
    "for o in options[idx[-k:]]:\n",
    "    print('{:<15} {:<15} {:<15}'.format(*o))"
   ]
  }
 ],
 "metadata": {
  "kernelspec": {
   "display_name": "Python 3",
   "language": "python",
   "name": "python3"
  },
  "language_info": {
   "codemirror_mode": {
    "name": "ipython",
    "version": 3
   },
   "file_extension": ".py",
   "mimetype": "text/x-python",
   "name": "python",
   "nbconvert_exporter": "python",
   "pygments_lexer": "ipython3",
   "version": "3.7.3"
  },
  "pycharm": {
   "stem_cell": {
    "cell_type": "raw",
    "metadata": {
     "collapsed": false
    },
    "source": []
   }
  }
 },
 "nbformat": 4,
 "nbformat_minor": 2
}

{
 "cells": [
  {
   "cell_type": "code",
   "execution_count": null,
   "metadata": {},
   "outputs": [],
   "source": [
    "import sys, os, time\n",
    "import numpy as np\n",
    "%matplotlib inline\n",
    "import matplotlib.pyplot as plt\n",
    "from tqdm import tqdm\n",
    "import csv\n",
    "# import util\n",
    "import nltk\n",
    "import word_util as wtil\n",
    "import graph_util as gtil\n",
    "# from aristomini.solvers.graph_solver import MySolver"
   ]
  },
  {
   "cell_type": "code",
   "execution_count": null,
   "metadata": {},
   "outputs": [],
   "source": [
    "questions = wtil.load_questions('../aristo-mini/questions/AI2-8thGr-NDMC-Feb2016-Train.jsonl')\n",
    "questions = wtil.load_questions('../aristo-mini/questions/AI2-Elementary-NDMC-Feb2016-Train.jsonl')\n",
    "len(questions)"
   ]
  },
  {
   "cell_type": "code",
   "execution_count": null,
   "metadata": {},
   "outputs": [],
   "source": [
    "idx = 4"
   ]
  },
  {
   "cell_type": "code",
   "execution_count": null,
   "metadata": {},
   "outputs": [],
   "source": [
    "q = questions[idx]\n",
    "print(q['question']['stem'])\n",
    "print()\n",
    "for choice in q['question']['choices']:\n",
    "    print(choice['label'], '\\t', choice['text'])\n",
    "print()\n",
    "print(q['answerKey'])"
   ]
  },
  {
   "cell_type": "code",
   "execution_count": null,
   "metadata": {},
   "outputs": [],
   "source": [
    "out = wtil.extract(q)\n",
    "{k:len(v) for k,v in out.items()}"
   ]
  },
  {
   "cell_type": "code",
   "execution_count": null,
   "metadata": {},
   "outputs": [],
   "source": [
    "tuples = {k:set(gtil.query(t)) for k,t in out.items()}\n",
    "{k:len(v) for k,v in tuples.items()}"
   ]
  },
  {
   "cell_type": "code",
   "execution_count": null,
   "metadata": {},
   "outputs": [],
   "source": [
    "f = {}\n",
    "for i, (k, t) in enumerate(tuples.items()):\n",
    "    common = set()\n",
    "    for j, (k2, s) in enumerate(tuples.items()):\n",
    "        if i == j:\n",
    "            continue\n",
    "        common.update(s)\n",
    "    f[k] = t.difference(common)\n",
    "{k:len(v) for k,v in f.items()}"
   ]
  },
  {
   "cell_type": "code",
   "execution_count": null,
   "metadata": {},
   "outputs": [],
   "source": [
    "total = sum([len(v)+1 for v in f.values()])\n",
    "\n",
    "confidences = {k:len(v)/total for k,v in f.items()}\n",
    "confidences"
   ]
  },
  {
   "cell_type": "code",
   "execution_count": null,
   "metadata": {},
   "outputs": [],
   "source": [
    "pick = sorted(confidences.items(), key=lambda x: x[1])[-1][0]\n",
    "pick"
   ]
  },
  {
   "cell_type": "code",
   "execution_count": null,
   "metadata": {},
   "outputs": [],
   "source": [
    "picks = []\n",
    "corrects = []\n",
    "\n",
    "for idx,q in enumerate(questions):\n",
    "    \n",
    "    correct = q['answerKey']\n",
    "    \n",
    "    out = wtil.extract(q)\n",
    "    tuples = {k:set(gtil.query(t)) for k,t in out.items()}\n",
    "    f = {}\n",
    "    for i, (k, t) in enumerate(tuples.items()):\n",
    "        common = set()\n",
    "        for j, (k2, s) in enumerate(tuples.items()):\n",
    "            if i == j:\n",
    "                continue\n",
    "            common.update(s)\n",
    "        f[k] = t.difference(common)\n",
    "    total = sum([len(v)+1 for v in f.values()])\n",
    "\n",
    "    confidences = {k:len(v)/total for k,v in f.items()}\n",
    "    \n",
    "    pick = sorted(confidences.items(), key=lambda x: x[1])[-1][0]\n",
    "    picks.append(pick)\n",
    "    corrects.append(correct)\n",
    "    \n",
    "    acc = sum(1 for p,c in zip(picks,corrects) if p==c)/(idx+1)\n",
    "    if idx % 10 == 0:\n",
    "        print('{}/{} : {:.4f}'.format(idx+1,len(questions), acc))\n",
    "acc = sum(1 for p,c in zip(picks,corrects) if p==c)/len(questions)\n",
    "print('Final : {:.4f}'.format(acc))\n",
    "    "
   ]
  },
  {
   "cell_type": "code",
   "execution_count": null,
   "metadata": {},
   "outputs": [],
   "source": []
  },
  {
   "cell_type": "code",
   "execution_count": null,
   "metadata": {},
   "outputs": [],
   "source": []
  }
 ],
 "metadata": {
  "kernelspec": {
   "display_name": "Python 3",
   "language": "python",
   "name": "python3"
  },
  "language_info": {
   "codemirror_mode": {
    "name": "ipython",
    "version": 3
   },
   "file_extension": ".py",
   "mimetype": "text/x-python",
   "name": "python",
   "nbconvert_exporter": "python",
   "pygments_lexer": "ipython3",
   "version": "3.6.7"
  }
 },
 "nbformat": 4,
 "nbformat_minor": 2
}

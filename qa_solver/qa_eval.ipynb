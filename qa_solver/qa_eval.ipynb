{
 "cells": [
  {
   "cell_type": "code",
   "execution_count": 1,
   "metadata": {},
   "outputs": [],
   "source": [
    "import sys, os, time\n",
    "import numpy as np\n",
    "%matplotlib notebook\n",
    "import matplotlib.pyplot as plt\n",
    "import torch\n",
    "from torch import nn\n",
    "from torch.nn import functional as F\n",
    "from torch.utils.data import Dataset\n",
    "from gensim.models.wrappers import FastText\n",
    "import gensim\n",
    "import word_util as wtil\n",
    "import fastText\n",
    "from collections import Counter\n",
    "torch.set_printoptions(linewidth=120)\n",
    "np.set_printoptions(linewidth=120, suppress=True)"
   ]
  },
  {
   "cell_type": "code",
   "execution_count": 2,
   "metadata": {
    "collapsed": true
   },
   "outputs": [],
   "source": [
    "lang = fastText.load_model('../../fastText/wiki.en.bin')"
   ]
  },
  {
   "cell_type": "code",
   "execution_count": 2,
   "metadata": {
    "collapsed": true
   },
   "outputs": [],
   "source": [
    "def cosd(x,y):\n",
    "    if x.ndimension() == 1:\n",
    "        x = x.unsqueeze(0)\n",
    "    if y.ndimension() == 1:\n",
    "        y = y.unsqueeze(0)\n",
    "    x = F.normalize(x, 2, -1)\n",
    "    y = F.normalize(y, 2, -1)\n",
    "    return -x @ y.transpose(-1,-2)/2+.5\n",
    "def l2(x,y):\n",
    "    if x.ndimension() == 1:\n",
    "        x = x.unsqueeze(0)\n",
    "    if y.ndimension() == 1:\n",
    "        y = y.unsqueeze(0)\n",
    "    x = x.unsqueeze(-2)\n",
    "    y = y.unsqueeze(-3)\n",
    "    return (x-y).pow(2).mean(-1)"
   ]
  },
  {
   "cell_type": "code",
   "execution_count": 7,
   "metadata": {
    "collapsed": true
   },
   "outputs": [],
   "source": [
    "def filter_tokens(s):\n",
    "    s = s.lower()\n",
    "    if s[-1] in {'.','?'}:\n",
    "        s = s[:-1]\n",
    "    s = s.split(' ')\n",
    "    return s\n",
    "def topk(query,k=5):\n",
    "    picks = wtil.tfidf(Counter(filter_tokens(query)),full_bag)[:k]\n",
    "    return [w for w,s in picks]"
   ]
  },
  {
   "cell_type": "code",
   "execution_count": 23,
   "metadata": {},
   "outputs": [
    {
     "data": {
      "text/plain": [
       "(432, 2805, 2805)"
      ]
     },
     "execution_count": 23,
     "metadata": {},
     "output_type": "execute_result"
    }
   ],
   "source": [
    "ds_name = 'elem'\n",
    "if ds_name == 'elem':\n",
    "    root = '../data/questions/AI2-Elementary-NDMC-Feb2016-Train.jsonl'\n",
    "    lookup = '../../train_elem_tokens_emb.pth.tar'\n",
    "elif ds_name == '8th':\n",
    "    root = '../data/questions/AI2-8thGr-NDMC-Feb2016-Train.jsonl'\n",
    "    lookup = '../../train_8thgr_tokens_emb.pth.tar'\n",
    "else:\n",
    "    raise Exception('unknown dataset')\n",
    "    \n",
    "questions = wtil.load_questions(root)\n",
    "lookup = torch.load(lookup)\n",
    "\n",
    "full_bag = lookup['bag']\n",
    "\n",
    "lookup = dict(zip(lookup['words'], lookup['vecs']))\n",
    "len(questions), len(full_bag), len(lookup)"
   ]
  },
  {
   "cell_type": "code",
   "execution_count": 9,
   "metadata": {},
   "outputs": [
    {
     "data": {
      "text/plain": [
       "2805"
      ]
     },
     "execution_count": 9,
     "metadata": {},
     "output_type": "execute_result"
    }
   ],
   "source": [
    "# questions = wtil.load_questions(root)\n",
    "# full_bag = Counter()\n",
    "# for q in questions:\n",
    "#     tokens = set(filter_tokens(q['question']['stem']))\n",
    "#     for a in q['question']['choices']:\n",
    "#         tokens.update(filter_tokens(a['text']))\n",
    "#     full_bag.update(tokens)\n",
    "# len(full_bag)"
   ]
  },
  {
   "cell_type": "code",
   "execution_count": 12,
   "metadata": {},
   "outputs": [
    {
     "data": {
      "text/plain": [
       "(46460, torch.Size([46460, 300]))"
      ]
     },
     "execution_count": 12,
     "metadata": {},
     "output_type": "execute_result"
    }
   ],
   "source": [
    "table = torch.load('../../fast_table.pth.tar')\n",
    "rows = table['rows']\n",
    "elements = np.array(table['elements'])\n",
    "vecs = torch.from_numpy(table['vecs']).float()\n",
    "table = dict(zip(elements,vecs))\n",
    "len(table.keys()), vecs.shape"
   ]
  },
  {
   "cell_type": "code",
   "execution_count": 13,
   "metadata": {},
   "outputs": [],
   "source": [
    "mentions = {}\n",
    "for i, row in enumerate(rows):\n",
    "    for w in row:\n",
    "        if w not in mentions:\n",
    "            mentions[w] = []\n",
    "        mentions[w].append(i)"
   ]
  },
  {
   "cell_type": "code",
   "execution_count": 14,
   "metadata": {
    "collapsed": true
   },
   "outputs": [],
   "source": [
    "def get_connections(picks):\n",
    "    matches = set()\n",
    "    for q in picks:\n",
    "        matches.update(mentions[q])\n",
    "    return matches"
   ]
  },
  {
   "cell_type": "code",
   "execution_count": null,
   "metadata": {},
   "outputs": [],
   "source": []
  },
  {
   "cell_type": "code",
   "execution_count": 15,
   "metadata": {
    "collapsed": true
   },
   "outputs": [],
   "source": [
    "def get_closest(query, vecs, k=2):\n",
    "    \n",
    "    D = l2(query, vecs)\n",
    "    return torch.topk(D,k,dim=-1,largest=False, sorted=False)\n",
    "\n",
    "def convert(words, lang):\n",
    "    return torch.from_numpy(np.stack([lang.get_word_vector(w) for w in words])).float()"
   ]
  },
  {
   "cell_type": "code",
   "execution_count": 16,
   "metadata": {
    "collapsed": true
   },
   "outputs": [],
   "source": [
    "q = questions[11]"
   ]
  },
  {
   "cell_type": "code",
   "execution_count": 17,
   "metadata": {},
   "outputs": [
    {
     "data": {
      "text/plain": [
       "['carry', 'berries', 'parent', 'another', 'seeds']"
      ]
     },
     "execution_count": 17,
     "metadata": {},
     "output_type": "execute_result"
    }
   ],
   "source": [
    "words = topk(q['question']['stem'])\n",
    "words"
   ]
  },
  {
   "cell_type": "code",
   "execution_count": 18,
   "metadata": {},
   "outputs": [
    {
     "ename": "NameError",
     "evalue": "name 'lang' is not defined",
     "output_type": "error",
     "traceback": [
      "\u001b[0;31m---------------------------------------------------------------------------\u001b[0m",
      "\u001b[0;31mNameError\u001b[0m                                 Traceback (most recent call last)",
      "\u001b[0;32m<ipython-input-18-e6435069deaa>\u001b[0m in \u001b[0;36m<module>\u001b[0;34m()\u001b[0m\n\u001b[0;32m----> 1\u001b[0;31m \u001b[0mv\u001b[0m \u001b[0;34m=\u001b[0m \u001b[0mconvert\u001b[0m\u001b[0;34m(\u001b[0m\u001b[0mwords\u001b[0m\u001b[0;34m,\u001b[0m \u001b[0mlang\u001b[0m\u001b[0;34m)\u001b[0m\u001b[0;34m\u001b[0m\u001b[0m\n\u001b[0m\u001b[1;32m      2\u001b[0m \u001b[0mv\u001b[0m\u001b[0;34m.\u001b[0m\u001b[0mshape\u001b[0m\u001b[0;34m\u001b[0m\u001b[0m\n",
      "\u001b[0;31mNameError\u001b[0m: name 'lang' is not defined"
     ]
    }
   ],
   "source": [
    "v = convert(words, lang)\n",
    "v.shape"
   ]
  },
  {
   "cell_type": "code",
   "execution_count": 188,
   "metadata": {},
   "outputs": [
    {
     "data": {
      "text/plain": [
       "torch.Size([5, 2])"
      ]
     },
     "execution_count": 188,
     "metadata": {},
     "output_type": "execute_result"
    }
   ],
   "source": [
    "cls = get_closest(v, vecs)[1]\n",
    "cls.shape"
   ]
  },
  {
   "cell_type": "code",
   "execution_count": 189,
   "metadata": {},
   "outputs": [
    {
     "data": {
      "text/plain": [
       "tensor([[  885, 19549],\n",
       "        [   79, 30609],\n",
       "        [ 2134, 31223],\n",
       "        [21995, 30439],\n",
       "        [16914, 42276]])"
      ]
     },
     "execution_count": 189,
     "metadata": {},
     "output_type": "execute_result"
    }
   ],
   "source": [
    "cls"
   ]
  },
  {
   "cell_type": "code",
   "execution_count": 190,
   "metadata": {},
   "outputs": [
    {
     "data": {
      "text/plain": [
       "2868"
      ]
     },
     "execution_count": 190,
     "metadata": {},
     "output_type": "execute_result"
    }
   ],
   "source": [
    "conns = get_connections(elements[cls].reshape(-1))\n",
    "len(conns)"
   ]
  },
  {
   "cell_type": "code",
   "execution_count": 191,
   "metadata": {},
   "outputs": [
    {
     "data": {
      "text/plain": [
       "1999"
      ]
     },
     "execution_count": 191,
     "metadata": {},
     "output_type": "execute_result"
    }
   ],
   "source": [
    "wopts = set()\n",
    "for i in conns:\n",
    "    wopts.update(rows[i])\n",
    "wopts = list(wopts)\n",
    "len(wopts)"
   ]
  },
  {
   "cell_type": "code",
   "execution_count": 192,
   "metadata": {},
   "outputs": [
    {
     "data": {
      "text/plain": [
       "torch.Size([1999, 300])"
      ]
     },
     "execution_count": 192,
     "metadata": {},
     "output_type": "execute_result"
    }
   ],
   "source": [
    "opts = torch.from_numpy(np.stack([table[w] for w in wopts])).float()\n",
    "opts.shape"
   ]
  },
  {
   "cell_type": "code",
   "execution_count": 196,
   "metadata": {
    "collapsed": true
   },
   "outputs": [],
   "source": [
    "lbls = []\n",
    "for a in q['question']['choices']:\n",
    "    lbl = a['label']\n",
    "    v = convert(topk(a['text']), lang).view(-1,300)\n",
    "    nb = get_closest(v, opts, k=10)[0]\n",
    "    conf = 1/nb.mean()\n",
    "    lbls.append((lbl,conf))"
   ]
  },
  {
   "cell_type": "code",
   "execution_count": 197,
   "metadata": {},
   "outputs": [
    {
     "data": {
      "text/plain": [
       "[('A', tensor(15.7981)),\n",
       " ('B', tensor(18.0087)),\n",
       " ('C', tensor(17.7777)),\n",
       " ('D', tensor(17.0350))]"
      ]
     },
     "execution_count": 197,
     "metadata": {},
     "output_type": "execute_result"
    }
   ],
   "source": [
    "lbls"
   ]
  },
  {
   "cell_type": "code",
   "execution_count": 199,
   "metadata": {},
   "outputs": [
    {
     "data": {
      "text/plain": [
       "'B'"
      ]
     },
     "execution_count": 199,
     "metadata": {},
     "output_type": "execute_result"
    }
   ],
   "source": [
    "sol = sorted(lbls, key=lambda x: x[1])[-1][0]"
   ]
  },
  {
   "cell_type": "code",
   "execution_count": 225,
   "metadata": {
    "collapsed": true
   },
   "outputs": [],
   "source": [
    "def solve(q):\n",
    "    \n",
    "    words = topk(q['question']['stem'])\n",
    "    \n",
    "    v = convert(words, lang)\n",
    "    \n",
    "    cls = get_closest(v, vecs)[1]\n",
    "    \n",
    "    conns = get_connections(elements[cls].reshape(-1))\n",
    "    \n",
    "    wopts = set()\n",
    "    for i in conns:\n",
    "        wopts.update(rows[i])\n",
    "    wopts = list(wopts)\n",
    "    \n",
    "    opts = torch.from_numpy(np.stack([table[w] for w in wopts])).float()\n",
    "    \n",
    "    lbls = []\n",
    "    for a in q['question']['choices']:\n",
    "        lbl = a['label']\n",
    "        v = convert(topk(a['text']), lang).view(-1,300)\n",
    "        nb = get_closest(v, opts, k=10)[0]\n",
    "        conf = 1/nb.mean()\n",
    "        lbls.append((lbl,conf))\n",
    "    \n",
    "    sol = sorted(lbls, key=lambda x: x[1])[-1][0]\n",
    "    return sol"
   ]
  },
  {
   "cell_type": "code",
   "execution_count": null,
   "metadata": {
    "collapsed": true
   },
   "outputs": [],
   "source": []
  },
  {
   "cell_type": "code",
   "execution_count": 226,
   "metadata": {
    "collapsed": true
   },
   "outputs": [],
   "source": [
    "true = [q['answerKey'] for q in questions]"
   ]
  },
  {
   "cell_type": "code",
   "execution_count": 227,
   "metadata": {
    "scrolled": false
   },
   "outputs": [
    {
     "name": "stdout",
     "output_type": "stream",
     "text": [
      "1/293 1.0000\n",
      "11/293 0.4545\n",
      "21/293 0.3810\n",
      "31/293 0.3871\n",
      "41/293 0.3415\n",
      "51/293 0.2941\n",
      "61/293 0.3115\n",
      "71/293 0.3239\n",
      "81/293 0.3333\n",
      "91/293 0.3407\n",
      "101/293 0.3465\n",
      "111/293 0.3423\n",
      "121/293 0.3636\n",
      "131/293 0.3511\n",
      "141/293 0.3404\n",
      "151/293 0.3245\n",
      "161/293 0.3168\n",
      "171/293 0.3275\n",
      "181/293 0.3370\n",
      "191/293 0.3298\n",
      "201/293 0.3234\n",
      "211/293 0.3318\n",
      "221/293 0.3258\n",
      "231/293 0.3160\n",
      "241/293 0.3154\n",
      "251/293 0.3147\n",
      "261/293 0.3180\n",
      "271/293 0.3137\n",
      "281/293 0.3025\n",
      "291/293 0.3058\n"
     ]
    }
   ],
   "source": [
    "sols = []\n",
    "correct = 0\n",
    "for i, q in enumerate(questions):\n",
    "    sol = solve(q)\n",
    "    if sol == true[i]:\n",
    "        correct += 1\n",
    "    sols.append(sol)\n",
    "    if i % 10 == 0:\n",
    "        print('{}/{} {:.4f}'.format(i+1,len(questions), correct/(i+1)))"
   ]
  },
  {
   "cell_type": "code",
   "execution_count": 228,
   "metadata": {},
   "outputs": [
    {
     "name": "stdout",
     "output_type": "stream",
     "text": [
      "Done 0.3072\n"
     ]
    }
   ],
   "source": [
    "print('Done {:.4f}'.format(correct/(i+1)))"
   ]
  },
  {
   "cell_type": "code",
   "execution_count": 229,
   "metadata": {},
   "outputs": [
    {
     "name": "stdout",
     "output_type": "stream",
     "text": [
      "BDDBCCDCBDACDBDCDADBDBABDDBBDCBCBCCBCBCACDBDBABCBAAABBABCADDCBABCBCBDDCCCDCAABCDADABDADCCACCCDDCBBACDBCACCAAABABDCABCCDCDDACBBCBADDBCCACACCDADADDAACDBBCADCCBBDADBBDAABACABADCABDDDCDCBBDDDDACADAACBCACACBBBCBDCBCCACCCBCCACCADDCBBBABCABBACACDCBCCBCDCADADBABDACADABBDDCBBDCBDADBBCCCCCBBDCDCDDBCBCD\n"
     ]
    }
   ],
   "source": [
    "print(''.join(true))"
   ]
  },
  {
   "cell_type": "code",
   "execution_count": 230,
   "metadata": {},
   "outputs": [
    {
     "name": "stdout",
     "output_type": "stream",
     "text": [
      "BDDADABDBDBADCDCADCDCABBCABCBCBACBDDBCCDCDDCADCAABDABBDCBBCDABDBDBCDCAACDABCABCBDDADDCCAAABCAABBBBBCCCABCCCCCBCCDDABCADDDAABAADDDDBCACDACADDBCDBBDCABBCABDCDCDADCBAAADBADDBBDCDBBDCDDDADBBBCCCAADBBCCDCDBDBBDBDDCDCBACBACADDBBABBDDBDAAACBBACBAABBCDACDADCCBCCDDCAADAABBBBCDDCBDADDBBBAADDACACADBDAAD\n"
     ]
    }
   ],
   "source": [
    "print(''.join(sols))"
   ]
  },
  {
   "cell_type": "code",
   "execution_count": null,
   "metadata": {
    "collapsed": true
   },
   "outputs": [],
   "source": [
    "# elem: 0.2894\n",
    "# true: CCACACCAABCBCCCDDABAAADADCBACBDCDCDDAACACDABAAACCDACBDBAACBCDAABCBABDADAACDBABBCDBADCADDACDBBCADBBDDDABACDDCACDCDAACCABDCBADAACDDBBADBDDACBCBBBDAACBBBBCDDABDBCDBDCDDCDDACCCACCCDBCBAAADCADCBBDADADCBBACCBBBCDBABADBACAACCBCDCBBCCBBADDAACCBDCCADCDCACACADDDDCACDDBBADCBBACBBCBADCBADBDBDAACBDCCBBACAADDCBDDDDDCBBBACADAADCCCBBACCACABCCABCDDCBDDCDDCCBBBABBABCBBBBDBBCCBBCCACBBCAACAAADBCDDCACBCABBDBCBABCDBDBCABCDBDBDAACACCDBDBADBBBBBDBBBBAC\n",
    "# pred: CBDABDDCBACBCACACCDBBADADDAAAADBADAACBBDACBDCCBCDCABADDACDADDDACDCDCBBBDCBBBCDBCDCDCCCDDACCDBACBBCBBBADBBDBCBCBDAACDCABDBCADCBADCADACACBBBADBCDDABAABACCDBBDAAADBBBBABCDBBAAADCBBBDCBDADBDAAADBCAADCBDBBABCDBABCCADDDDADDDAAADBDBBBDBBBBCCCACCDDBAACBADAAABBACACCAAADDCADCDBBDDDCBCCBCCBDBCBDDCDCAADBDBABDDDCDCBCCDCDADAABAADDBDDAABDDABDBBBABDAABACDAABBCDBACCBDBDDBBDCCAABAACACABDCABCACDBBADCCAACDCADBCADBAABCDCCADCDCADCADDADABDDACBDACBADDB\n",
    "\n",
    "# 8th: 0.3072\n",
    "# true: BDDBCCDCBDACDBDCDADBDBABDDBBDCBCBCCBCBCACDBDBABCBAAABBABCADDCBABCBCBDDCCCDCAABCDADABDADCCACCCDDCBBACDBCACCAAABABDCABCCDCDDACBBCBADDBCCACACCDADADDAACDBBCADCCBBDADBBDAABACABADCABDDDCDCBBDDDDACADAACBCACACBBBCBDCBCCACCCBCCACCADDCBBBABCABBACACDCBCCBCDCADADBABDACADABBDDCBBDCBDADBBCCCCCBBDCDCDDBCBCD\n",
    "# pred: BDDADABDBDBADCDCADCDCABBCABCBCBACBDDBCCDCDDCADCAABDABBDCBBCDABDBDBCDCAACDABCABCBDDADDCCAAABCAABBBBBCCCABCCCCCBCCDDABCADDDAABAADDDDBCACDACADDBCDBBDCABBCABDCDCDADCBAAADBADDBBDCDBBDCDDDADBBBCCCAADBBCCDCDBDBBDBDDCDCBACBACADDBBABBDDBDAAACBBACBAABBCDACDADCCBCCDDCAADAABBBBCDDCBDADDBBBAADDACACADBDAAD\n"
   ]
  }
 ],
 "metadata": {
  "kernelspec": {
   "display_name": "Python 3",
   "language": "python",
   "name": "python3"
  },
  "language_info": {
   "codemirror_mode": {
    "name": "ipython",
    "version": 3
   },
   "file_extension": ".py",
   "mimetype": "text/x-python",
   "name": "python",
   "nbconvert_exporter": "python",
   "pygments_lexer": "ipython3",
   "version": "3.6.4"
  }
 },
 "nbformat": 4,
 "nbformat_minor": 2
}

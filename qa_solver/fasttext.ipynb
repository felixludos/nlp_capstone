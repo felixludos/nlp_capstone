{
 "cells": [
  {
   "cell_type": "code",
   "execution_count": 1,
   "metadata": {},
   "outputs": [
    {
     "name": "stderr",
     "output_type": "stream",
     "text": [
      "/home/fleeb/anaconda3/envs/py36/lib/python3.6/site-packages/smart_open/ssh.py:34: UserWarning: paramiko missing, opening SSH/SCP/SFTP paths will be disabled.  `pip install paramiko` to suppress\n",
      "  warnings.warn('paramiko missing, opening SSH/SCP/SFTP paths will be disabled.  `pip install paramiko` to suppress')\n"
     ]
    }
   ],
   "source": [
    "import sys, os, time\n",
    "import numpy as np\n",
    "%matplotlib notebook\n",
    "import matplotlib.pyplot as plt\n",
    "import torch\n",
    "from torch import nn\n",
    "from torch.nn import functional as F\n",
    "from torch.utils.data import Dataset\n",
    "from gensim.models.wrappers import FastText\n",
    "import gensim\n",
    "import fastText\n",
    "torch.set_printoptions(linewidth=120)\n",
    "np.set_printoptions(linewidth=120, suppress=True)"
   ]
  },
  {
   "cell_type": "code",
   "execution_count": 2,
   "metadata": {},
   "outputs": [],
   "source": [
    "#model = gensim.models.KeyedVectors.load_word2vec_format('/mnt/c/Users/anwan/Downloads/wiki-news-300d-1M.vec/wiki-news-300d-1M.vec')\n",
    "\n",
    "# model = gensim.models.KeyedVectors.load_word2vec_format('../../fastText/wiki.en.vec')\n",
    "lang = fastText.load_model('../../fastText/wiki.en.bin')"
   ]
  },
  {
   "cell_type": "code",
   "execution_count": 19,
   "metadata": {},
   "outputs": [
    {
     "data": {
      "text/plain": [
       "3793"
      ]
     },
     "execution_count": 19,
     "metadata": {},
     "output_type": "execute_result"
    }
   ],
   "source": [
    "oie = Aristo('../data/openbook_tuples.tsv')\n",
    "len(oie)"
   ]
  },
  {
   "cell_type": "code",
   "execution_count": 20,
   "metadata": {},
   "outputs": [],
   "source": [
    "otable = {}\n"
   ]
  },
  {
   "cell_type": "code",
   "execution_count": 21,
   "metadata": {},
   "outputs": [
    {
     "data": {
      "text/plain": [
       "['conductor', 'is vehicle for', 'flow']"
      ]
     },
     "execution_count": 21,
     "metadata": {},
     "output_type": "execute_result"
    }
   ],
   "source": [
    "oie[1]"
   ]
  },
  {
   "cell_type": "code",
   "execution_count": null,
   "metadata": {},
   "outputs": [],
   "source": []
  },
  {
   "cell_type": "code",
   "execution_count": 8,
   "metadata": {},
   "outputs": [
    {
     "data": {
      "text/plain": [
       "(300,)"
      ]
     },
     "execution_count": 8,
     "metadata": {},
     "output_type": "execute_result"
    }
   ],
   "source": [
    "lang.get_word_vector('testaklgja').shape"
   ]
  },
  {
   "cell_type": "code",
   "execution_count": 42,
   "metadata": {},
   "outputs": [],
   "source": [
    "def cosd(x,y):\n",
    "    if x.ndimension() == 1:\n",
    "        x = x.unsqueeze(0)\n",
    "    if y.ndimension() == 1:\n",
    "        y = y.unsqueeze(0)\n",
    "    x = F.normalize(x, 2, -1)\n",
    "    y = F.normalize(y, 2, -1)\n",
    "    return -x @ y.transpose(-1,-2)/2+.5\n",
    "def l2(x,y):\n",
    "    if x.ndimension() == 1:\n",
    "        x = x.unsqueeze(0)\n",
    "    if y.ndimension() == 1:\n",
    "        y = y.unsqueeze(0)\n",
    "    x = x.unsqueeze(-2)\n",
    "    y = y.unsqueeze(-3)\n",
    "    return (x-y).pow(2).mean(-1)"
   ]
  },
  {
   "cell_type": "code",
   "execution_count": 81,
   "metadata": {},
   "outputs": [
    {
     "data": {
      "text/plain": [
       "torch.Size([9, 300])"
      ]
     },
     "execution_count": 81,
     "metadata": {},
     "output_type": "execute_result"
    }
   ],
   "source": [
    "words = ['king', 'queen', 'man', 'woman', 'table', 'doctor', 'tiger', 'france', 'china']\n",
    "vecs = []\n",
    "for w in words:\n",
    "    vecs.append(lang.get_word_vector(w))\n",
    "vecs = torch.from_numpy(np.stack(vecs))\n",
    "vecs.shape"
   ]
  },
  {
   "cell_type": "code",
   "execution_count": 88,
   "metadata": {},
   "outputs": [
    {
     "data": {
      "text/plain": [
       "282594"
      ]
     },
     "execution_count": 88,
     "metadata": {},
     "output_type": "execute_result"
    }
   ],
   "source": [
    "dataset = Aristo()\n",
    "len(dataset)"
   ]
  },
  {
   "cell_type": "code",
   "execution_count": 96,
   "metadata": {},
   "outputs": [
    {
     "data": {
      "text/plain": [
       "dict_keys(['rows', 'table', 'completed'])"
      ]
     },
     "execution_count": 96,
     "metadata": {},
     "output_type": "execute_result"
    }
   ],
   "source": [
    "tbl = torch.load('../../old/table.pth.tar')\n",
    "tbl.keys()"
   ]
  },
  {
   "cell_type": "code",
   "execution_count": null,
   "metadata": {},
   "outputs": [],
   "source": []
  },
  {
   "cell_type": "code",
   "execution_count": 22,
   "metadata": {},
   "outputs": [],
   "source": [
    "dataset = oie"
   ]
  },
  {
   "cell_type": "code",
   "execution_count": 23,
   "metadata": {},
   "outputs": [
    {
     "name": "stdout",
     "output_type": "stream",
     "text": [
      "1/3793\n",
      "1001/3793\n",
      "2001/3793\n",
      "3001/3793\n"
     ]
    },
    {
     "data": {
      "text/plain": [
       "2886"
      ]
     },
     "execution_count": 23,
     "metadata": {},
     "output_type": "execute_result"
    }
   ],
   "source": [
    "ftable = {}\n",
    "for i, tpl in enumerate(oie):\n",
    "    for x in tpl:\n",
    "        \n",
    "        if x not in ftable:\n",
    "            ftable[x] = lang.get_word_vector(x)\n",
    "    if i % 1000 == 0:\n",
    "        print('{}/{}'.format(i+1,len(dataset)))\n",
    "len(ftable)"
   ]
  },
  {
   "cell_type": "code",
   "execution_count": 24,
   "metadata": {},
   "outputs": [
    {
     "data": {
      "text/plain": [
       "2886"
      ]
     },
     "execution_count": 24,
     "metadata": {},
     "output_type": "execute_result"
    }
   ],
   "source": [
    "len(ftable)"
   ]
  },
  {
   "cell_type": "code",
   "execution_count": 25,
   "metadata": {},
   "outputs": [
    {
     "data": {
      "text/plain": [
       "(2886, (2886, 300))"
      ]
     },
     "execution_count": 25,
     "metadata": {},
     "output_type": "execute_result"
    }
   ],
   "source": [
    "elements = []\n",
    "vecs = []\n",
    "\n",
    "for k,v in ftable.items():\n",
    "    elements.append(k)\n",
    "    vecs.append(v)\n",
    "    \n",
    "vecs = np.stack(vecs)\n",
    "len(elements), vecs.shape"
   ]
  },
  {
   "cell_type": "code",
   "execution_count": 26,
   "metadata": {},
   "outputs": [],
   "source": [
    "# torch.save({'elements':elements,'vecs':vecs,'rows':dataset.tuples}, '../oie_table.pth.tar')"
   ]
  },
  {
   "cell_type": "code",
   "execution_count": null,
   "metadata": {},
   "outputs": [],
   "source": []
  },
  {
   "cell_type": "code",
   "execution_count": null,
   "metadata": {},
   "outputs": [],
   "source": []
  },
  {
   "cell_type": "code",
   "execution_count": null,
   "metadata": {},
   "outputs": [],
   "source": []
  },
  {
   "cell_type": "code",
   "execution_count": 86,
   "metadata": {},
   "outputs": [
    {
     "data": {
      "text/plain": [
       "torch.Size([1, 300])"
      ]
     },
     "execution_count": 86,
     "metadata": {},
     "output_type": "execute_result"
    }
   ],
   "source": [
    "v = torch.from_numpy(lang.get_word_vector('chill')).unsqueeze(0)\n",
    "v.shape"
   ]
  },
  {
   "cell_type": "code",
   "execution_count": 87,
   "metadata": {},
   "outputs": [
    {
     "name": "stdout",
     "output_type": "stream",
     "text": [
      "[[0.43359974 0.43285793 0.36233115 0.43297434 0.40758592 0.41534483 0.40045962 0.45124558 0.46199214]]\n"
     ]
    }
   ],
   "source": [
    "print(cosd(v,vecs).numpy())"
   ]
  },
  {
   "cell_type": "code",
   "execution_count": null,
   "metadata": {},
   "outputs": [],
   "source": []
  },
  {
   "cell_type": "code",
   "execution_count": 18,
   "metadata": {},
   "outputs": [],
   "source": [
    "class Aristo(Dataset):\n",
    "    def __init__(self, aristo_path='../../aristo.txt'):\n",
    "        super().__init__()\n",
    "        with open(aristo_path, 'r') as f:\n",
    "            self.tuples = []\n",
    "            for row in f.readlines():\n",
    "                row = row[:-1].split('\\t')\n",
    "                l = []\n",
    "                for x in row:\n",
    "                    if x[0] == ' ':\n",
    "                        x = x[1:]\n",
    "                    if x[-1] == ' ':\n",
    "                        x = x[:-1]\n",
    "                    l.append(x)\n",
    "                self.tuples.append(l)\n",
    "#             self.tuples = [row[:-1].split('\\t') for row in f.readlines()]\n",
    "            \n",
    "    def __len__(self):\n",
    "        return len(self.tuples)\n",
    "    \n",
    "    def __getitem__(self, idx):\n",
    "        return self.tuples[idx]\n",
    "\n",
    "class Choose2(Dataset): # unordered, no repeats\n",
    "    def __init__(self, dataset):\n",
    "        self.dataset = dataset\n",
    "            \n",
    "    def __getitem__(self, idx):\n",
    "        \n",
    "        i = int(1+np.sqrt(1+8*idx))//2\n",
    "        j = idx % i\n",
    "        \n",
    "        return self.dataset[i], self.dataset[j]\n",
    "        \n",
    "        A = self.tuples[i]\n",
    "        B = self.tuples[j]\n",
    "        \n",
    "        match = sum([A[0]==B[0], A[1]==B[1], A[2]==B[2], A[0]==B[2], A[2]==B[0]])\n",
    "        \n",
    "        return A, B, match\n",
    "    \n",
    "    def __len__(self,):\n",
    "        return len(self.dataset)*(len(self.dataset)-1)//2\n",
    "    \n",
    "class Tokens2Vec(Dataset):\n",
    "    def __init__(self, source, lang_model, merge_type='avg'):\n",
    "        self.source = source\n",
    "        self.lang_model = lang_model\n",
    "        self.merge_type = merge_type\n",
    "        \n",
    "    def __len__(self):\n",
    "        return len(self.source)\n",
    "    \n",
    "    def __getitem__(self, idx):\n",
    "        toks = self.source[idx]\n",
    "        \n",
    "        vecs = [torch.from_numpy(self.lang_model(tok)).float() for tok in toks]\n",
    "        \n",
    "        if self.merge_type == 'avg':\n",
    "            x = sum(vecs)/len(vecs)\n",
    "        elif self.merge_type == 'cat':\n",
    "            x = torch.cat(vecs,-1)\n",
    "        else:\n",
    "            raise Exception('unknown mergy type: {}'.format(self.merge_type))\n",
    "            \n",
    "        return x"
   ]
  },
  {
   "cell_type": "code",
   "execution_count": 6,
   "metadata": {},
   "outputs": [
    {
     "ename": "NameError",
     "evalue": "name 'lang' is not defined",
     "output_type": "error",
     "traceback": [
      "\u001b[0;31m---------------------------------------------------------------------\u001b[0m",
      "\u001b[0;31mNameError\u001b[0m                           Traceback (most recent call last)",
      "\u001b[0;32m<ipython-input-6-63cd65e2cdbc>\u001b[0m in \u001b[0;36m<module>\u001b[0;34m\u001b[0m\n\u001b[1;32m      1\u001b[0m \u001b[0;31m# dataset = Aristo()\u001b[0m\u001b[0;34m\u001b[0m\u001b[0;34m\u001b[0m\u001b[0;34m\u001b[0m\u001b[0m\n\u001b[1;32m      2\u001b[0m \u001b[0mrawdataset\u001b[0m \u001b[0;34m=\u001b[0m \u001b[0mAristo\u001b[0m\u001b[0;34m(\u001b[0m\u001b[0;34m)\u001b[0m\u001b[0;34m\u001b[0m\u001b[0;34m\u001b[0m\u001b[0m\n\u001b[0;32m----> 3\u001b[0;31m \u001b[0mdataset\u001b[0m \u001b[0;34m=\u001b[0m \u001b[0mTokens2Vec\u001b[0m\u001b[0;34m(\u001b[0m\u001b[0mrawdataset\u001b[0m\u001b[0;34m,\u001b[0m \u001b[0mlang\u001b[0m\u001b[0;34m.\u001b[0m\u001b[0mget_word_vector\u001b[0m\u001b[0;34m,\u001b[0m \u001b[0mmerge_type\u001b[0m\u001b[0;34m=\u001b[0m\u001b[0;34m'avg'\u001b[0m\u001b[0;34m)\u001b[0m\u001b[0;34m\u001b[0m\u001b[0;34m\u001b[0m\u001b[0m\n\u001b[0m\u001b[1;32m      4\u001b[0m \u001b[0mlen\u001b[0m\u001b[0;34m(\u001b[0m\u001b[0mdataset\u001b[0m\u001b[0;34m)\u001b[0m\u001b[0;34m\u001b[0m\u001b[0;34m\u001b[0m\u001b[0m\n",
      "\u001b[0;31mNameError\u001b[0m: name 'lang' is not defined"
     ]
    }
   ],
   "source": [
    "# dataset = Aristo()\n",
    "rawdataset = Aristo()\n",
    "dataset = Tokens2Vec(rawdataset, lang.get_word_vector, merge_type='avg')\n",
    "len(dataset)"
   ]
  },
  {
   "cell_type": "code",
   "execution_count": 92,
   "metadata": {},
   "outputs": [
    {
     "data": {
      "text/plain": [
       "torch.Size([300])"
      ]
     },
     "execution_count": 92,
     "metadata": {},
     "output_type": "execute_result"
    }
   ],
   "source": [
    "dataset[10].shape"
   ]
  },
  {
   "cell_type": "code",
   "execution_count": 94,
   "metadata": {},
   "outputs": [
    {
     "data": {
      "text/plain": [
       "(['aardvark', 'has-part', 'head'], ['aardvark', 'has-part', 'nucleus'])"
      ]
     },
     "execution_count": 94,
     "metadata": {},
     "output_type": "execute_result"
    }
   ],
   "source": [
    "rawdataset[10], rawdataset[11]"
   ]
  },
  {
   "cell_type": "code",
   "execution_count": null,
   "metadata": {},
   "outputs": [],
   "source": [
    "dataset[10]"
   ]
  },
  {
   "cell_type": "code",
   "execution_count": null,
   "metadata": {},
   "outputs": [],
   "source": []
  },
  {
   "cell_type": "code",
   "execution_count": null,
   "metadata": {},
   "outputs": [],
   "source": []
  },
  {
   "cell_type": "code",
   "execution_count": null,
   "metadata": {},
   "outputs": [],
   "source": []
  },
  {
   "cell_type": "code",
   "execution_count": null,
   "metadata": {},
   "outputs": [],
   "source": []
  },
  {
   "cell_type": "code",
   "execution_count": 58,
   "metadata": {},
   "outputs": [
    {
     "data": {
      "text/plain": [
       "39929543121"
      ]
     },
     "execution_count": 58,
     "metadata": {},
     "output_type": "execute_result"
    }
   ],
   "source": [
    "dataset = AristoMatches()\n",
    "len(dataset)"
   ]
  },
  {
   "cell_type": "code",
   "execution_count": 55,
   "metadata": {},
   "outputs": [
    {
     "data": {
      "text/plain": [
       "(['aardvark', 'has-part', 'head\\n'], ['aardvark', 'has-part', 'brain\\n'], 2)"
      ]
     },
     "execution_count": 55,
     "metadata": {},
     "output_type": "execute_result"
    }
   ],
   "source": [
    "counts = [0]*6\n",
    "for"
   ]
  },
  {
   "cell_type": "code",
   "execution_count": null,
   "metadata": {
    "collapsed": true
   },
   "outputs": [],
   "source": []
  },
  {
   "cell_type": "code",
   "execution_count": 2,
   "metadata": {
    "collapsed": true
   },
   "outputs": [],
   "source": [
    "# model = fastText.load_model('../fastText/data/dbpedia.bin')\n",
    "model = fastText.load_model('/mnt/c/Users/anwan/Downloads/wiki.en/wiki.en.bin')"
   ]
  },
  {
   "cell_type": "code",
   "execution_count": 8,
   "metadata": {},
   "outputs": [
    {
     "data": {
      "text/plain": [
       "torch.Size([8, 300])"
      ]
     },
     "execution_count": 8,
     "metadata": {},
     "output_type": "execute_result"
    }
   ],
   "source": [
    "words = ['king', 'queen', 'man', 'woman', 'table', 'computer', 'tailor', 'doctor']\n",
    "vecs = []\n",
    "for w in words:\n",
    "    vecs.append(model.get_vector(w))\n",
    "vecs = torch.from_numpy(np.stack(vecs))\n",
    "vecs.shape"
   ]
  },
  {
   "cell_type": "code",
   "execution_count": 9,
   "metadata": {
    "scrolled": true
   },
   "outputs": [
    {
     "data": {
      "text/plain": [
       "tensor([[-0.0573,  0.0025, -0.0059,  ...,  0.0319, -0.0145, -0.0152],\n",
       "        [-0.0283, -0.0074,  0.0025,  ...,  0.0322,  0.0274,  0.0430],\n",
       "        [-0.0205,  0.0024,  0.0279,  ..., -0.0092, -0.0140, -0.0354],\n",
       "        ...,\n",
       "        [-0.0348, -0.0069, -0.0144,  ..., -0.0124,  0.0261, -0.0008],\n",
       "        [ 0.0199,  0.0010, -0.0103,  ..., -0.0087, -0.0258, -0.0529],\n",
       "        [-0.0212, -0.0120,  0.0110,  ...,  0.0075,  0.0089, -0.0321]])"
      ]
     },
     "execution_count": 9,
     "metadata": {},
     "output_type": "execute_result"
    }
   ],
   "source": [
    "vecs"
   ]
  },
  {
   "cell_type": "code",
   "execution_count": 40,
   "metadata": {},
   "outputs": [
    {
     "data": {
      "text/plain": [
       "tensor([[1.]])"
      ]
     },
     "execution_count": 40,
     "metadata": {},
     "output_type": "execute_result"
    }
   ],
   "source": [
    "dist(vecs[0], vecs[2])"
   ]
  },
  {
   "cell_type": "code",
   "execution_count": 37,
   "metadata": {},
   "outputs": [
    {
     "data": {
      "text/plain": [
       "tensor([[0.5240]])"
      ]
     },
     "execution_count": 37,
     "metadata": {},
     "output_type": "execute_result"
    }
   ],
   "source": [
    "dist(vecs[1], vecs[3])"
   ]
  },
  {
   "cell_type": "code",
   "execution_count": 38,
   "metadata": {},
   "outputs": [
    {
     "data": {
      "text/plain": [
       "tensor([[0.7801]])"
      ]
     },
     "execution_count": 38,
     "metadata": {},
     "output_type": "execute_result"
    }
   ],
   "source": [
    "dist(vecs[3]+vecs[0]-vecs[1], vecs[2])"
   ]
  },
  {
   "cell_type": "code",
   "execution_count": 32,
   "metadata": {
    "collapsed": true
   },
   "outputs": [],
   "source": [
    "def dist(x,y):\n",
    "    if x.ndimension() == 1:\n",
    "        x = x.unsqueeze(0)\n",
    "    if y.ndimension() == 1:\n",
    "        y = y.unsqueeze(0)\n",
    "    x = F.normalize(x, 2, -1)\n",
    "    y = F.normalize(y, 2, -1)\n",
    "    return x @ y.transpose(-1,-2)\n",
    "# def dist(x,y):\n",
    "#     if x.ndimension() == 1:\n",
    "#         x = x.unsqueeze(0)\n",
    "#     if y.ndimension() == 1:\n",
    "#         y = y.unsqueeze(0)\n",
    "#     x = x.unsqueeze(-2)\n",
    "#     y = y.unsqueeze(-3)\n",
    "#     return (x-y).pow(2).mean(-1)"
   ]
  },
  {
   "cell_type": "code",
   "execution_count": null,
   "metadata": {
    "collapsed": true
   },
   "outputs": [],
   "source": []
  },
  {
   "cell_type": "code",
   "execution_count": 33,
   "metadata": {},
   "outputs": [
    {
     "data": {
      "application/javascript": [
       "/* Put everything inside the global mpl namespace */\n",
       "window.mpl = {};\n",
       "\n",
       "\n",
       "mpl.get_websocket_type = function() {\n",
       "    if (typeof(WebSocket) !== 'undefined') {\n",
       "        return WebSocket;\n",
       "    } else if (typeof(MozWebSocket) !== 'undefined') {\n",
       "        return MozWebSocket;\n",
       "    } else {\n",
       "        alert('Your browser does not have WebSocket support.' +\n",
       "              'Please try Chrome, Safari or Firefox ≥ 6. ' +\n",
       "              'Firefox 4 and 5 are also supported but you ' +\n",
       "              'have to enable WebSockets in about:config.');\n",
       "    };\n",
       "}\n",
       "\n",
       "mpl.figure = function(figure_id, websocket, ondownload, parent_element) {\n",
       "    this.id = figure_id;\n",
       "\n",
       "    this.ws = websocket;\n",
       "\n",
       "    this.supports_binary = (this.ws.binaryType != undefined);\n",
       "\n",
       "    if (!this.supports_binary) {\n",
       "        var warnings = document.getElementById(\"mpl-warnings\");\n",
       "        if (warnings) {\n",
       "            warnings.style.display = 'block';\n",
       "            warnings.textContent = (\n",
       "                \"This browser does not support binary websocket messages. \" +\n",
       "                    \"Performance may be slow.\");\n",
       "        }\n",
       "    }\n",
       "\n",
       "    this.imageObj = new Image();\n",
       "\n",
       "    this.context = undefined;\n",
       "    this.message = undefined;\n",
       "    this.canvas = undefined;\n",
       "    this.rubberband_canvas = undefined;\n",
       "    this.rubberband_context = undefined;\n",
       "    this.format_dropdown = undefined;\n",
       "\n",
       "    this.image_mode = 'full';\n",
       "\n",
       "    this.root = $('<div/>');\n",
       "    this._root_extra_style(this.root)\n",
       "    this.root.attr('style', 'display: inline-block');\n",
       "\n",
       "    $(parent_element).append(this.root);\n",
       "\n",
       "    this._init_header(this);\n",
       "    this._init_canvas(this);\n",
       "    this._init_toolbar(this);\n",
       "\n",
       "    var fig = this;\n",
       "\n",
       "    this.waiting = false;\n",
       "\n",
       "    this.ws.onopen =  function () {\n",
       "            fig.send_message(\"supports_binary\", {value: fig.supports_binary});\n",
       "            fig.send_message(\"send_image_mode\", {});\n",
       "            if (mpl.ratio != 1) {\n",
       "                fig.send_message(\"set_dpi_ratio\", {'dpi_ratio': mpl.ratio});\n",
       "            }\n",
       "            fig.send_message(\"refresh\", {});\n",
       "        }\n",
       "\n",
       "    this.imageObj.onload = function() {\n",
       "            if (fig.image_mode == 'full') {\n",
       "                // Full images could contain transparency (where diff images\n",
       "                // almost always do), so we need to clear the canvas so that\n",
       "                // there is no ghosting.\n",
       "                fig.context.clearRect(0, 0, fig.canvas.width, fig.canvas.height);\n",
       "            }\n",
       "            fig.context.drawImage(fig.imageObj, 0, 0);\n",
       "        };\n",
       "\n",
       "    this.imageObj.onunload = function() {\n",
       "        fig.ws.close();\n",
       "    }\n",
       "\n",
       "    this.ws.onmessage = this._make_on_message_function(this);\n",
       "\n",
       "    this.ondownload = ondownload;\n",
       "}\n",
       "\n",
       "mpl.figure.prototype._init_header = function() {\n",
       "    var titlebar = $(\n",
       "        '<div class=\"ui-dialog-titlebar ui-widget-header ui-corner-all ' +\n",
       "        'ui-helper-clearfix\"/>');\n",
       "    var titletext = $(\n",
       "        '<div class=\"ui-dialog-title\" style=\"width: 100%; ' +\n",
       "        'text-align: center; padding: 3px;\"/>');\n",
       "    titlebar.append(titletext)\n",
       "    this.root.append(titlebar);\n",
       "    this.header = titletext[0];\n",
       "}\n",
       "\n",
       "\n",
       "\n",
       "mpl.figure.prototype._canvas_extra_style = function(canvas_div) {\n",
       "\n",
       "}\n",
       "\n",
       "\n",
       "mpl.figure.prototype._root_extra_style = function(canvas_div) {\n",
       "\n",
       "}\n",
       "\n",
       "mpl.figure.prototype._init_canvas = function() {\n",
       "    var fig = this;\n",
       "\n",
       "    var canvas_div = $('<div/>');\n",
       "\n",
       "    canvas_div.attr('style', 'position: relative; clear: both; outline: 0');\n",
       "\n",
       "    function canvas_keyboard_event(event) {\n",
       "        return fig.key_event(event, event['data']);\n",
       "    }\n",
       "\n",
       "    canvas_div.keydown('key_press', canvas_keyboard_event);\n",
       "    canvas_div.keyup('key_release', canvas_keyboard_event);\n",
       "    this.canvas_div = canvas_div\n",
       "    this._canvas_extra_style(canvas_div)\n",
       "    this.root.append(canvas_div);\n",
       "\n",
       "    var canvas = $('<canvas/>');\n",
       "    canvas.addClass('mpl-canvas');\n",
       "    canvas.attr('style', \"left: 0; top: 0; z-index: 0; outline: 0\")\n",
       "\n",
       "    this.canvas = canvas[0];\n",
       "    this.context = canvas[0].getContext(\"2d\");\n",
       "\n",
       "    var backingStore = this.context.backingStorePixelRatio ||\n",
       "\tthis.context.webkitBackingStorePixelRatio ||\n",
       "\tthis.context.mozBackingStorePixelRatio ||\n",
       "\tthis.context.msBackingStorePixelRatio ||\n",
       "\tthis.context.oBackingStorePixelRatio ||\n",
       "\tthis.context.backingStorePixelRatio || 1;\n",
       "\n",
       "    mpl.ratio = (window.devicePixelRatio || 1) / backingStore;\n",
       "\n",
       "    var rubberband = $('<canvas/>');\n",
       "    rubberband.attr('style', \"position: absolute; left: 0; top: 0; z-index: 1;\")\n",
       "\n",
       "    var pass_mouse_events = true;\n",
       "\n",
       "    canvas_div.resizable({\n",
       "        start: function(event, ui) {\n",
       "            pass_mouse_events = false;\n",
       "        },\n",
       "        resize: function(event, ui) {\n",
       "            fig.request_resize(ui.size.width, ui.size.height);\n",
       "        },\n",
       "        stop: function(event, ui) {\n",
       "            pass_mouse_events = true;\n",
       "            fig.request_resize(ui.size.width, ui.size.height);\n",
       "        },\n",
       "    });\n",
       "\n",
       "    function mouse_event_fn(event) {\n",
       "        if (pass_mouse_events)\n",
       "            return fig.mouse_event(event, event['data']);\n",
       "    }\n",
       "\n",
       "    rubberband.mousedown('button_press', mouse_event_fn);\n",
       "    rubberband.mouseup('button_release', mouse_event_fn);\n",
       "    // Throttle sequential mouse events to 1 every 20ms.\n",
       "    rubberband.mousemove('motion_notify', mouse_event_fn);\n",
       "\n",
       "    rubberband.mouseenter('figure_enter', mouse_event_fn);\n",
       "    rubberband.mouseleave('figure_leave', mouse_event_fn);\n",
       "\n",
       "    canvas_div.on(\"wheel\", function (event) {\n",
       "        event = event.originalEvent;\n",
       "        event['data'] = 'scroll'\n",
       "        if (event.deltaY < 0) {\n",
       "            event.step = 1;\n",
       "        } else {\n",
       "            event.step = -1;\n",
       "        }\n",
       "        mouse_event_fn(event);\n",
       "    });\n",
       "\n",
       "    canvas_div.append(canvas);\n",
       "    canvas_div.append(rubberband);\n",
       "\n",
       "    this.rubberband = rubberband;\n",
       "    this.rubberband_canvas = rubberband[0];\n",
       "    this.rubberband_context = rubberband[0].getContext(\"2d\");\n",
       "    this.rubberband_context.strokeStyle = \"#000000\";\n",
       "\n",
       "    this._resize_canvas = function(width, height) {\n",
       "        // Keep the size of the canvas, canvas container, and rubber band\n",
       "        // canvas in synch.\n",
       "        canvas_div.css('width', width)\n",
       "        canvas_div.css('height', height)\n",
       "\n",
       "        canvas.attr('width', width * mpl.ratio);\n",
       "        canvas.attr('height', height * mpl.ratio);\n",
       "        canvas.attr('style', 'width: ' + width + 'px; height: ' + height + 'px;');\n",
       "\n",
       "        rubberband.attr('width', width);\n",
       "        rubberband.attr('height', height);\n",
       "    }\n",
       "\n",
       "    // Set the figure to an initial 600x600px, this will subsequently be updated\n",
       "    // upon first draw.\n",
       "    this._resize_canvas(600, 600);\n",
       "\n",
       "    // Disable right mouse context menu.\n",
       "    $(this.rubberband_canvas).bind(\"contextmenu\",function(e){\n",
       "        return false;\n",
       "    });\n",
       "\n",
       "    function set_focus () {\n",
       "        canvas.focus();\n",
       "        canvas_div.focus();\n",
       "    }\n",
       "\n",
       "    window.setTimeout(set_focus, 100);\n",
       "}\n",
       "\n",
       "mpl.figure.prototype._init_toolbar = function() {\n",
       "    var fig = this;\n",
       "\n",
       "    var nav_element = $('<div/>')\n",
       "    nav_element.attr('style', 'width: 100%');\n",
       "    this.root.append(nav_element);\n",
       "\n",
       "    // Define a callback function for later on.\n",
       "    function toolbar_event(event) {\n",
       "        return fig.toolbar_button_onclick(event['data']);\n",
       "    }\n",
       "    function toolbar_mouse_event(event) {\n",
       "        return fig.toolbar_button_onmouseover(event['data']);\n",
       "    }\n",
       "\n",
       "    for(var toolbar_ind in mpl.toolbar_items) {\n",
       "        var name = mpl.toolbar_items[toolbar_ind][0];\n",
       "        var tooltip = mpl.toolbar_items[toolbar_ind][1];\n",
       "        var image = mpl.toolbar_items[toolbar_ind][2];\n",
       "        var method_name = mpl.toolbar_items[toolbar_ind][3];\n",
       "\n",
       "        if (!name) {\n",
       "            // put a spacer in here.\n",
       "            continue;\n",
       "        }\n",
       "        var button = $('<button/>');\n",
       "        button.addClass('ui-button ui-widget ui-state-default ui-corner-all ' +\n",
       "                        'ui-button-icon-only');\n",
       "        button.attr('role', 'button');\n",
       "        button.attr('aria-disabled', 'false');\n",
       "        button.click(method_name, toolbar_event);\n",
       "        button.mouseover(tooltip, toolbar_mouse_event);\n",
       "\n",
       "        var icon_img = $('<span/>');\n",
       "        icon_img.addClass('ui-button-icon-primary ui-icon');\n",
       "        icon_img.addClass(image);\n",
       "        icon_img.addClass('ui-corner-all');\n",
       "\n",
       "        var tooltip_span = $('<span/>');\n",
       "        tooltip_span.addClass('ui-button-text');\n",
       "        tooltip_span.html(tooltip);\n",
       "\n",
       "        button.append(icon_img);\n",
       "        button.append(tooltip_span);\n",
       "\n",
       "        nav_element.append(button);\n",
       "    }\n",
       "\n",
       "    var fmt_picker_span = $('<span/>');\n",
       "\n",
       "    var fmt_picker = $('<select/>');\n",
       "    fmt_picker.addClass('mpl-toolbar-option ui-widget ui-widget-content');\n",
       "    fmt_picker_span.append(fmt_picker);\n",
       "    nav_element.append(fmt_picker_span);\n",
       "    this.format_dropdown = fmt_picker[0];\n",
       "\n",
       "    for (var ind in mpl.extensions) {\n",
       "        var fmt = mpl.extensions[ind];\n",
       "        var option = $(\n",
       "            '<option/>', {selected: fmt === mpl.default_extension}).html(fmt);\n",
       "        fmt_picker.append(option)\n",
       "    }\n",
       "\n",
       "    // Add hover states to the ui-buttons\n",
       "    $( \".ui-button\" ).hover(\n",
       "        function() { $(this).addClass(\"ui-state-hover\");},\n",
       "        function() { $(this).removeClass(\"ui-state-hover\");}\n",
       "    );\n",
       "\n",
       "    var status_bar = $('<span class=\"mpl-message\"/>');\n",
       "    nav_element.append(status_bar);\n",
       "    this.message = status_bar[0];\n",
       "}\n",
       "\n",
       "mpl.figure.prototype.request_resize = function(x_pixels, y_pixels) {\n",
       "    // Request matplotlib to resize the figure. Matplotlib will then trigger a resize in the client,\n",
       "    // which will in turn request a refresh of the image.\n",
       "    this.send_message('resize', {'width': x_pixels, 'height': y_pixels});\n",
       "}\n",
       "\n",
       "mpl.figure.prototype.send_message = function(type, properties) {\n",
       "    properties['type'] = type;\n",
       "    properties['figure_id'] = this.id;\n",
       "    this.ws.send(JSON.stringify(properties));\n",
       "}\n",
       "\n",
       "mpl.figure.prototype.send_draw_message = function() {\n",
       "    if (!this.waiting) {\n",
       "        this.waiting = true;\n",
       "        this.ws.send(JSON.stringify({type: \"draw\", figure_id: this.id}));\n",
       "    }\n",
       "}\n",
       "\n",
       "\n",
       "mpl.figure.prototype.handle_save = function(fig, msg) {\n",
       "    var format_dropdown = fig.format_dropdown;\n",
       "    var format = format_dropdown.options[format_dropdown.selectedIndex].value;\n",
       "    fig.ondownload(fig, format);\n",
       "}\n",
       "\n",
       "\n",
       "mpl.figure.prototype.handle_resize = function(fig, msg) {\n",
       "    var size = msg['size'];\n",
       "    if (size[0] != fig.canvas.width || size[1] != fig.canvas.height) {\n",
       "        fig._resize_canvas(size[0], size[1]);\n",
       "        fig.send_message(\"refresh\", {});\n",
       "    };\n",
       "}\n",
       "\n",
       "mpl.figure.prototype.handle_rubberband = function(fig, msg) {\n",
       "    var x0 = msg['x0'] / mpl.ratio;\n",
       "    var y0 = (fig.canvas.height - msg['y0']) / mpl.ratio;\n",
       "    var x1 = msg['x1'] / mpl.ratio;\n",
       "    var y1 = (fig.canvas.height - msg['y1']) / mpl.ratio;\n",
       "    x0 = Math.floor(x0) + 0.5;\n",
       "    y0 = Math.floor(y0) + 0.5;\n",
       "    x1 = Math.floor(x1) + 0.5;\n",
       "    y1 = Math.floor(y1) + 0.5;\n",
       "    var min_x = Math.min(x0, x1);\n",
       "    var min_y = Math.min(y0, y1);\n",
       "    var width = Math.abs(x1 - x0);\n",
       "    var height = Math.abs(y1 - y0);\n",
       "\n",
       "    fig.rubberband_context.clearRect(\n",
       "        0, 0, fig.canvas.width, fig.canvas.height);\n",
       "\n",
       "    fig.rubberband_context.strokeRect(min_x, min_y, width, height);\n",
       "}\n",
       "\n",
       "mpl.figure.prototype.handle_figure_label = function(fig, msg) {\n",
       "    // Updates the figure title.\n",
       "    fig.header.textContent = msg['label'];\n",
       "}\n",
       "\n",
       "mpl.figure.prototype.handle_cursor = function(fig, msg) {\n",
       "    var cursor = msg['cursor'];\n",
       "    switch(cursor)\n",
       "    {\n",
       "    case 0:\n",
       "        cursor = 'pointer';\n",
       "        break;\n",
       "    case 1:\n",
       "        cursor = 'default';\n",
       "        break;\n",
       "    case 2:\n",
       "        cursor = 'crosshair';\n",
       "        break;\n",
       "    case 3:\n",
       "        cursor = 'move';\n",
       "        break;\n",
       "    }\n",
       "    fig.rubberband_canvas.style.cursor = cursor;\n",
       "}\n",
       "\n",
       "mpl.figure.prototype.handle_message = function(fig, msg) {\n",
       "    fig.message.textContent = msg['message'];\n",
       "}\n",
       "\n",
       "mpl.figure.prototype.handle_draw = function(fig, msg) {\n",
       "    // Request the server to send over a new figure.\n",
       "    fig.send_draw_message();\n",
       "}\n",
       "\n",
       "mpl.figure.prototype.handle_image_mode = function(fig, msg) {\n",
       "    fig.image_mode = msg['mode'];\n",
       "}\n",
       "\n",
       "mpl.figure.prototype.updated_canvas_event = function() {\n",
       "    // Called whenever the canvas gets updated.\n",
       "    this.send_message(\"ack\", {});\n",
       "}\n",
       "\n",
       "// A function to construct a web socket function for onmessage handling.\n",
       "// Called in the figure constructor.\n",
       "mpl.figure.prototype._make_on_message_function = function(fig) {\n",
       "    return function socket_on_message(evt) {\n",
       "        if (evt.data instanceof Blob) {\n",
       "            /* FIXME: We get \"Resource interpreted as Image but\n",
       "             * transferred with MIME type text/plain:\" errors on\n",
       "             * Chrome.  But how to set the MIME type?  It doesn't seem\n",
       "             * to be part of the websocket stream */\n",
       "            evt.data.type = \"image/png\";\n",
       "\n",
       "            /* Free the memory for the previous frames */\n",
       "            if (fig.imageObj.src) {\n",
       "                (window.URL || window.webkitURL).revokeObjectURL(\n",
       "                    fig.imageObj.src);\n",
       "            }\n",
       "\n",
       "            fig.imageObj.src = (window.URL || window.webkitURL).createObjectURL(\n",
       "                evt.data);\n",
       "            fig.updated_canvas_event();\n",
       "            fig.waiting = false;\n",
       "            return;\n",
       "        }\n",
       "        else if (typeof evt.data === 'string' && evt.data.slice(0, 21) == \"data:image/png;base64\") {\n",
       "            fig.imageObj.src = evt.data;\n",
       "            fig.updated_canvas_event();\n",
       "            fig.waiting = false;\n",
       "            return;\n",
       "        }\n",
       "\n",
       "        var msg = JSON.parse(evt.data);\n",
       "        var msg_type = msg['type'];\n",
       "\n",
       "        // Call the  \"handle_{type}\" callback, which takes\n",
       "        // the figure and JSON message as its only arguments.\n",
       "        try {\n",
       "            var callback = fig[\"handle_\" + msg_type];\n",
       "        } catch (e) {\n",
       "            console.log(\"No handler for the '\" + msg_type + \"' message type: \", msg);\n",
       "            return;\n",
       "        }\n",
       "\n",
       "        if (callback) {\n",
       "            try {\n",
       "                // console.log(\"Handling '\" + msg_type + \"' message: \", msg);\n",
       "                callback(fig, msg);\n",
       "            } catch (e) {\n",
       "                console.log(\"Exception inside the 'handler_\" + msg_type + \"' callback:\", e, e.stack, msg);\n",
       "            }\n",
       "        }\n",
       "    };\n",
       "}\n",
       "\n",
       "// from http://stackoverflow.com/questions/1114465/getting-mouse-location-in-canvas\n",
       "mpl.findpos = function(e) {\n",
       "    //this section is from http://www.quirksmode.org/js/events_properties.html\n",
       "    var targ;\n",
       "    if (!e)\n",
       "        e = window.event;\n",
       "    if (e.target)\n",
       "        targ = e.target;\n",
       "    else if (e.srcElement)\n",
       "        targ = e.srcElement;\n",
       "    if (targ.nodeType == 3) // defeat Safari bug\n",
       "        targ = targ.parentNode;\n",
       "\n",
       "    // jQuery normalizes the pageX and pageY\n",
       "    // pageX,Y are the mouse positions relative to the document\n",
       "    // offset() returns the position of the element relative to the document\n",
       "    var x = e.pageX - $(targ).offset().left;\n",
       "    var y = e.pageY - $(targ).offset().top;\n",
       "\n",
       "    return {\"x\": x, \"y\": y};\n",
       "};\n",
       "\n",
       "/*\n",
       " * return a copy of an object with only non-object keys\n",
       " * we need this to avoid circular references\n",
       " * http://stackoverflow.com/a/24161582/3208463\n",
       " */\n",
       "function simpleKeys (original) {\n",
       "  return Object.keys(original).reduce(function (obj, key) {\n",
       "    if (typeof original[key] !== 'object')\n",
       "        obj[key] = original[key]\n",
       "    return obj;\n",
       "  }, {});\n",
       "}\n",
       "\n",
       "mpl.figure.prototype.mouse_event = function(event, name) {\n",
       "    var canvas_pos = mpl.findpos(event)\n",
       "\n",
       "    if (name === 'button_press')\n",
       "    {\n",
       "        this.canvas.focus();\n",
       "        this.canvas_div.focus();\n",
       "    }\n",
       "\n",
       "    var x = canvas_pos.x * mpl.ratio;\n",
       "    var y = canvas_pos.y * mpl.ratio;\n",
       "\n",
       "    this.send_message(name, {x: x, y: y, button: event.button,\n",
       "                             step: event.step,\n",
       "                             guiEvent: simpleKeys(event)});\n",
       "\n",
       "    /* This prevents the web browser from automatically changing to\n",
       "     * the text insertion cursor when the button is pressed.  We want\n",
       "     * to control all of the cursor setting manually through the\n",
       "     * 'cursor' event from matplotlib */\n",
       "    event.preventDefault();\n",
       "    return false;\n",
       "}\n",
       "\n",
       "mpl.figure.prototype._key_event_extra = function(event, name) {\n",
       "    // Handle any extra behaviour associated with a key event\n",
       "}\n",
       "\n",
       "mpl.figure.prototype.key_event = function(event, name) {\n",
       "\n",
       "    // Prevent repeat events\n",
       "    if (name == 'key_press')\n",
       "    {\n",
       "        if (event.which === this._key)\n",
       "            return;\n",
       "        else\n",
       "            this._key = event.which;\n",
       "    }\n",
       "    if (name == 'key_release')\n",
       "        this._key = null;\n",
       "\n",
       "    var value = '';\n",
       "    if (event.ctrlKey && event.which != 17)\n",
       "        value += \"ctrl+\";\n",
       "    if (event.altKey && event.which != 18)\n",
       "        value += \"alt+\";\n",
       "    if (event.shiftKey && event.which != 16)\n",
       "        value += \"shift+\";\n",
       "\n",
       "    value += 'k';\n",
       "    value += event.which.toString();\n",
       "\n",
       "    this._key_event_extra(event, name);\n",
       "\n",
       "    this.send_message(name, {key: value,\n",
       "                             guiEvent: simpleKeys(event)});\n",
       "    return false;\n",
       "}\n",
       "\n",
       "mpl.figure.prototype.toolbar_button_onclick = function(name) {\n",
       "    if (name == 'download') {\n",
       "        this.handle_save(this, null);\n",
       "    } else {\n",
       "        this.send_message(\"toolbar_button\", {name: name});\n",
       "    }\n",
       "};\n",
       "\n",
       "mpl.figure.prototype.toolbar_button_onmouseover = function(tooltip) {\n",
       "    this.message.textContent = tooltip;\n",
       "};\n",
       "mpl.toolbar_items = [[\"Home\", \"Reset original view\", \"fa fa-home icon-home\", \"home\"], [\"Back\", \"Back to previous view\", \"fa fa-arrow-left icon-arrow-left\", \"back\"], [\"Forward\", \"Forward to next view\", \"fa fa-arrow-right icon-arrow-right\", \"forward\"], [\"\", \"\", \"\", \"\"], [\"Pan\", \"Pan axes with left mouse, zoom with right\", \"fa fa-arrows icon-move\", \"pan\"], [\"Zoom\", \"Zoom to rectangle\", \"fa fa-square-o icon-check-empty\", \"zoom\"], [\"\", \"\", \"\", \"\"], [\"Download\", \"Download plot\", \"fa fa-floppy-o icon-save\", \"download\"]];\n",
       "\n",
       "mpl.extensions = [\"eps\", \"jpeg\", \"pdf\", \"png\", \"ps\", \"raw\", \"svg\", \"tif\"];\n",
       "\n",
       "mpl.default_extension = \"png\";var comm_websocket_adapter = function(comm) {\n",
       "    // Create a \"websocket\"-like object which calls the given IPython comm\n",
       "    // object with the appropriate methods. Currently this is a non binary\n",
       "    // socket, so there is still some room for performance tuning.\n",
       "    var ws = {};\n",
       "\n",
       "    ws.close = function() {\n",
       "        comm.close()\n",
       "    };\n",
       "    ws.send = function(m) {\n",
       "        //console.log('sending', m);\n",
       "        comm.send(m);\n",
       "    };\n",
       "    // Register the callback with on_msg.\n",
       "    comm.on_msg(function(msg) {\n",
       "        //console.log('receiving', msg['content']['data'], msg);\n",
       "        // Pass the mpl event to the overridden (by mpl) onmessage function.\n",
       "        ws.onmessage(msg['content']['data'])\n",
       "    });\n",
       "    return ws;\n",
       "}\n",
       "\n",
       "mpl.mpl_figure_comm = function(comm, msg) {\n",
       "    // This is the function which gets called when the mpl process\n",
       "    // starts-up an IPython Comm through the \"matplotlib\" channel.\n",
       "\n",
       "    var id = msg.content.data.id;\n",
       "    // Get hold of the div created by the display call when the Comm\n",
       "    // socket was opened in Python.\n",
       "    var element = $(\"#\" + id);\n",
       "    var ws_proxy = comm_websocket_adapter(comm)\n",
       "\n",
       "    function ondownload(figure, format) {\n",
       "        window.open(figure.imageObj.src);\n",
       "    }\n",
       "\n",
       "    var fig = new mpl.figure(id, ws_proxy,\n",
       "                           ondownload,\n",
       "                           element.get(0));\n",
       "\n",
       "    // Call onopen now - mpl needs it, as it is assuming we've passed it a real\n",
       "    // web socket which is closed, not our websocket->open comm proxy.\n",
       "    ws_proxy.onopen();\n",
       "\n",
       "    fig.parent_element = element.get(0);\n",
       "    fig.cell_info = mpl.find_output_cell(\"<div id='\" + id + \"'></div>\");\n",
       "    if (!fig.cell_info) {\n",
       "        console.error(\"Failed to find cell for figure\", id, fig);\n",
       "        return;\n",
       "    }\n",
       "\n",
       "    var output_index = fig.cell_info[2]\n",
       "    var cell = fig.cell_info[0];\n",
       "\n",
       "};\n",
       "\n",
       "mpl.figure.prototype.handle_close = function(fig, msg) {\n",
       "    var width = fig.canvas.width/mpl.ratio\n",
       "    fig.root.unbind('remove')\n",
       "\n",
       "    // Update the output cell to use the data from the current canvas.\n",
       "    fig.push_to_output();\n",
       "    var dataURL = fig.canvas.toDataURL();\n",
       "    // Re-enable the keyboard manager in IPython - without this line, in FF,\n",
       "    // the notebook keyboard shortcuts fail.\n",
       "    IPython.keyboard_manager.enable()\n",
       "    $(fig.parent_element).html('<img src=\"' + dataURL + '\" width=\"' + width + '\">');\n",
       "    fig.close_ws(fig, msg);\n",
       "}\n",
       "\n",
       "mpl.figure.prototype.close_ws = function(fig, msg){\n",
       "    fig.send_message('closing', msg);\n",
       "    // fig.ws.close()\n",
       "}\n",
       "\n",
       "mpl.figure.prototype.push_to_output = function(remove_interactive) {\n",
       "    // Turn the data on the canvas into data in the output cell.\n",
       "    var width = this.canvas.width/mpl.ratio\n",
       "    var dataURL = this.canvas.toDataURL();\n",
       "    this.cell_info[1]['text/html'] = '<img src=\"' + dataURL + '\" width=\"' + width + '\">';\n",
       "}\n",
       "\n",
       "mpl.figure.prototype.updated_canvas_event = function() {\n",
       "    // Tell IPython that the notebook contents must change.\n",
       "    IPython.notebook.set_dirty(true);\n",
       "    this.send_message(\"ack\", {});\n",
       "    var fig = this;\n",
       "    // Wait a second, then push the new image to the DOM so\n",
       "    // that it is saved nicely (might be nice to debounce this).\n",
       "    setTimeout(function () { fig.push_to_output() }, 1000);\n",
       "}\n",
       "\n",
       "mpl.figure.prototype._init_toolbar = function() {\n",
       "    var fig = this;\n",
       "\n",
       "    var nav_element = $('<div/>')\n",
       "    nav_element.attr('style', 'width: 100%');\n",
       "    this.root.append(nav_element);\n",
       "\n",
       "    // Define a callback function for later on.\n",
       "    function toolbar_event(event) {\n",
       "        return fig.toolbar_button_onclick(event['data']);\n",
       "    }\n",
       "    function toolbar_mouse_event(event) {\n",
       "        return fig.toolbar_button_onmouseover(event['data']);\n",
       "    }\n",
       "\n",
       "    for(var toolbar_ind in mpl.toolbar_items){\n",
       "        var name = mpl.toolbar_items[toolbar_ind][0];\n",
       "        var tooltip = mpl.toolbar_items[toolbar_ind][1];\n",
       "        var image = mpl.toolbar_items[toolbar_ind][2];\n",
       "        var method_name = mpl.toolbar_items[toolbar_ind][3];\n",
       "\n",
       "        if (!name) { continue; };\n",
       "\n",
       "        var button = $('<button class=\"btn btn-default\" href=\"#\" title=\"' + name + '\"><i class=\"fa ' + image + ' fa-lg\"></i></button>');\n",
       "        button.click(method_name, toolbar_event);\n",
       "        button.mouseover(tooltip, toolbar_mouse_event);\n",
       "        nav_element.append(button);\n",
       "    }\n",
       "\n",
       "    // Add the status bar.\n",
       "    var status_bar = $('<span class=\"mpl-message\" style=\"text-align:right; float: right;\"/>');\n",
       "    nav_element.append(status_bar);\n",
       "    this.message = status_bar[0];\n",
       "\n",
       "    // Add the close button to the window.\n",
       "    var buttongrp = $('<div class=\"btn-group inline pull-right\"></div>');\n",
       "    var button = $('<button class=\"btn btn-mini btn-primary\" href=\"#\" title=\"Stop Interaction\"><i class=\"fa fa-power-off icon-remove icon-large\"></i></button>');\n",
       "    button.click(function (evt) { fig.handle_close(fig, {}); } );\n",
       "    button.mouseover('Stop Interaction', toolbar_mouse_event);\n",
       "    buttongrp.append(button);\n",
       "    var titlebar = this.root.find($('.ui-dialog-titlebar'));\n",
       "    titlebar.prepend(buttongrp);\n",
       "}\n",
       "\n",
       "mpl.figure.prototype._root_extra_style = function(el){\n",
       "    var fig = this\n",
       "    el.on(\"remove\", function(){\n",
       "\tfig.close_ws(fig, {});\n",
       "    });\n",
       "}\n",
       "\n",
       "mpl.figure.prototype._canvas_extra_style = function(el){\n",
       "    // this is important to make the div 'focusable\n",
       "    el.attr('tabindex', 0)\n",
       "    // reach out to IPython and tell the keyboard manager to turn it's self\n",
       "    // off when our div gets focus\n",
       "\n",
       "    // location in version 3\n",
       "    if (IPython.notebook.keyboard_manager) {\n",
       "        IPython.notebook.keyboard_manager.register_events(el);\n",
       "    }\n",
       "    else {\n",
       "        // location in version 2\n",
       "        IPython.keyboard_manager.register_events(el);\n",
       "    }\n",
       "\n",
       "}\n",
       "\n",
       "mpl.figure.prototype._key_event_extra = function(event, name) {\n",
       "    var manager = IPython.notebook.keyboard_manager;\n",
       "    if (!manager)\n",
       "        manager = IPython.keyboard_manager;\n",
       "\n",
       "    // Check for shift+enter\n",
       "    if (event.shiftKey && event.which == 13) {\n",
       "        this.canvas_div.blur();\n",
       "        event.shiftKey = false;\n",
       "        // Send a \"J\" for go to next cell\n",
       "        event.which = 74;\n",
       "        event.keyCode = 74;\n",
       "        manager.command_mode();\n",
       "        manager.handle_keydown(event);\n",
       "    }\n",
       "}\n",
       "\n",
       "mpl.figure.prototype.handle_save = function(fig, msg) {\n",
       "    fig.ondownload(fig, null);\n",
       "}\n",
       "\n",
       "\n",
       "mpl.find_output_cell = function(html_output) {\n",
       "    // Return the cell and output element which can be found *uniquely* in the notebook.\n",
       "    // Note - this is a bit hacky, but it is done because the \"notebook_saving.Notebook\"\n",
       "    // IPython event is triggered only after the cells have been serialised, which for\n",
       "    // our purposes (turning an active figure into a static one), is too late.\n",
       "    var cells = IPython.notebook.get_cells();\n",
       "    var ncells = cells.length;\n",
       "    for (var i=0; i<ncells; i++) {\n",
       "        var cell = cells[i];\n",
       "        if (cell.cell_type === 'code'){\n",
       "            for (var j=0; j<cell.output_area.outputs.length; j++) {\n",
       "                var data = cell.output_area.outputs[j];\n",
       "                if (data.data) {\n",
       "                    // IPython >= 3 moved mimebundle to data attribute of output\n",
       "                    data = data.data;\n",
       "                }\n",
       "                if (data['text/html'] == html_output) {\n",
       "                    return [cell, data, j];\n",
       "                }\n",
       "            }\n",
       "        }\n",
       "    }\n",
       "}\n",
       "\n",
       "// Register the function which deals with the matplotlib target/channel.\n",
       "// The kernel may be null if the page has been refreshed.\n",
       "if (IPython.notebook.kernel != null) {\n",
       "    IPython.notebook.kernel.comm_manager.register_target('matplotlib', mpl.mpl_figure_comm);\n",
       "}\n"
      ],
      "text/plain": [
       "<IPython.core.display.Javascript object>"
      ]
     },
     "metadata": {},
     "output_type": "display_data"
    },
    {
     "data": {
      "text/html": [
       "<img src=\"data:image/png;base64,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\" width=\"480\">"
      ],
      "text/plain": [
       "<IPython.core.display.HTML object>"
      ]
     },
     "metadata": {},
     "output_type": "display_data"
    },
    {
     "data": {
      "text/plain": [
       "<matplotlib.image.AxesImage at 0x7f3c59b1b1d0>"
      ]
     },
     "execution_count": 33,
     "metadata": {},
     "output_type": "execute_result"
    }
   ],
   "source": [
    "plt.matshow(dist(vecs, vecs).numpy())"
   ]
  },
  {
   "cell_type": "code",
   "execution_count": null,
   "metadata": {
    "collapsed": true
   },
   "outputs": [],
   "source": []
  },
  {
   "cell_type": "code",
   "execution_count": null,
   "metadata": {
    "collapsed": true
   },
   "outputs": [],
   "source": []
  },
  {
   "cell_type": "code",
   "execution_count": null,
   "metadata": {
    "collapsed": true
   },
   "outputs": [],
   "source": []
  },
  {
   "cell_type": "code",
   "execution_count": 33,
   "metadata": {},
   "outputs": [
    {
     "data": {
      "text/plain": [
       "29.870918"
      ]
     },
     "execution_count": 33,
     "metadata": {},
     "output_type": "execute_result"
    }
   ],
   "source": [
    "np.sum((x-y)**2)"
   ]
  },
  {
   "cell_type": "code",
   "execution_count": 34,
   "metadata": {},
   "outputs": [
    {
     "data": {
      "text/plain": [
       "1.7082936"
      ]
     },
     "execution_count": 34,
     "metadata": {},
     "output_type": "execute_result"
    }
   ],
   "source": [
    "np.sum((x-z)**2)"
   ]
  },
  {
   "cell_type": "code",
   "execution_count": 35,
   "metadata": {},
   "outputs": [
    {
     "data": {
      "text/plain": [
       "40.071594"
      ]
     },
     "execution_count": 35,
     "metadata": {},
     "output_type": "execute_result"
    }
   ],
   "source": [
    "np.sum((y-z)**2)"
   ]
  },
  {
   "cell_type": "code",
   "execution_count": null,
   "metadata": {
    "collapsed": true
   },
   "outputs": [],
   "source": []
  }
 ],
 "metadata": {
  "kernelspec": {
   "display_name": "Python 3",
   "language": "python",
   "name": "python3"
  },
  "language_info": {
   "codemirror_mode": {
    "name": "ipython",
    "version": 3
   },
   "file_extension": ".py",
   "mimetype": "text/x-python",
   "name": "python",
   "nbconvert_exporter": "python",
   "pygments_lexer": "ipython3",
   "version": "3.6.7"
  }
 },
 "nbformat": 4,
 "nbformat_minor": 2
}

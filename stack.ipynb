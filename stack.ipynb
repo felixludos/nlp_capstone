{
 "cells": [
  {
   "cell_type": "code",
   "execution_count": 1,
   "metadata": {},
   "outputs": [],
   "source": [
    "import sys, os, time\n",
    "import numpy as np\n",
    "%matplotlib inline\n",
    "import matplotlib.pyplot as plt\n",
    "from tqdm import tqdm\n",
    "import csv\n",
    "# import util\n",
    "import nltk\n",
    "import word_util as wtil\n",
    "import graph_util as gtil\n",
    "# from aristomini.solvers.graph_solver import MySolver"
   ]
  },
  {
   "cell_type": "code",
   "execution_count": 11,
   "metadata": {},
   "outputs": [
    {
     "data": {
      "text/plain": [
       "432"
      ]
     },
     "execution_count": 11,
     "metadata": {},
     "output_type": "execute_result"
    }
   ],
   "source": [
    "questions = wtil.load_questions('aristo-mini/questions/AI2-8thGr-NDMC-Feb2016-Train.jsonl')\n",
    "questions = wtil.load_questions('aristo-mini/questions/AI2-Elementary-NDMC-Feb2016-Train.jsonl')\n",
    "len(questions)"
   ]
  },
  {
   "cell_type": "code",
   "execution_count": 12,
   "metadata": {},
   "outputs": [],
   "source": [
    "idx = 4"
   ]
  },
  {
   "cell_type": "code",
   "execution_count": 13,
   "metadata": {},
   "outputs": [
    {
     "name": "stdout",
     "output_type": "stream",
     "text": [
      "Directions Read the information about wind erosion then answer questions 8 – 10. Wind can cause erosion that changes the surface of the Earth. Wind erosion can have negative effects on the environment by removing soil and polluting the air during dust storms. Walter wanted to find out if faster wind speeds increased the amount of wind erosion. Which instrument should he use to measure wind speed?\n",
      "\n",
      "A \t anemometer\n",
      "B \t barometer\n",
      "C \t rain gauge\n",
      "D \t thermometer\n",
      "\n",
      "A\n"
     ]
    }
   ],
   "source": [
    "q = questions[idx]\n",
    "print(q['question']['stem'])\n",
    "print()\n",
    "for choice in q['question']['choices']:\n",
    "    print(choice['label'], '\\t', choice['text'])\n",
    "print()\n",
    "print(q['answerKey'])"
   ]
  },
  {
   "cell_type": "code",
   "execution_count": 14,
   "metadata": {},
   "outputs": [
    {
     "data": {
      "text/plain": [
       "{'A': 10, 'B': 10, 'C': 10, 'D': 10}"
      ]
     },
     "execution_count": 14,
     "metadata": {},
     "output_type": "execute_result"
    }
   ],
   "source": [
    "out = wtil.extract(q)\n",
    "{k:len(v) for k,v in out.items()}"
   ]
  },
  {
   "cell_type": "code",
   "execution_count": 15,
   "metadata": {},
   "outputs": [
    {
     "data": {
      "text/plain": [
       "{'A': 220, 'B': 223, 'C': 220, 'D': 233}"
      ]
     },
     "execution_count": 15,
     "metadata": {},
     "output_type": "execute_result"
    }
   ],
   "source": [
    "tuples = {k:set(gtil.query(t)) for k,t in out.items()}\n",
    "{k:len(v) for k,v in tuples.items()}"
   ]
  },
  {
   "cell_type": "code",
   "execution_count": 16,
   "metadata": {},
   "outputs": [
    {
     "data": {
      "text/plain": [
       "{'A': 0, 'B': 3, 'C': 0, 'D': 13}"
      ]
     },
     "execution_count": 16,
     "metadata": {},
     "output_type": "execute_result"
    }
   ],
   "source": [
    "f = {}\n",
    "for i, (k, t) in enumerate(tuples.items()):\n",
    "    common = set()\n",
    "    for j, (k2, s) in enumerate(tuples.items()):\n",
    "        if i == j:\n",
    "            continue\n",
    "        common.update(s)\n",
    "    f[k] = t.difference(common)\n",
    "{k:len(v) for k,v in f.items()}"
   ]
  },
  {
   "cell_type": "code",
   "execution_count": 17,
   "metadata": {},
   "outputs": [
    {
     "data": {
      "text/plain": [
       "{'A': 0.0, 'B': 0.15, 'C': 0.0, 'D': 0.65}"
      ]
     },
     "execution_count": 17,
     "metadata": {},
     "output_type": "execute_result"
    }
   ],
   "source": [
    "total = sum([len(v)+1 for v in f.values()])\n",
    "\n",
    "confidences = {k:len(v)/total for k,v in f.items()}\n",
    "confidences"
   ]
  },
  {
   "cell_type": "code",
   "execution_count": 18,
   "metadata": {},
   "outputs": [
    {
     "data": {
      "text/plain": [
       "'D'"
      ]
     },
     "execution_count": 18,
     "metadata": {},
     "output_type": "execute_result"
    }
   ],
   "source": [
    "pick = sorted(confidences.items(), key=lambda x: x[1])[-1][0]\n",
    "pick"
   ]
  },
  {
   "cell_type": "code",
   "execution_count": 21,
   "metadata": {},
   "outputs": [
    {
     "name": "stdout",
     "output_type": "stream",
     "text": [
      "1/432 : 1.0000\n",
      "11/432 : 0.2727\n",
      "21/432 : 0.2857\n",
      "31/432 : 0.2903\n",
      "41/432 : 0.2927\n",
      "51/432 : 0.2353\n",
      "61/432 : 0.2131\n",
      "71/432 : 0.2394\n",
      "81/432 : 0.2222\n",
      "91/432 : 0.2308\n",
      "101/432 : 0.2376\n",
      "111/432 : 0.2432\n",
      "121/432 : 0.2562\n",
      "131/432 : 0.2443\n",
      "141/432 : 0.2624\n",
      "151/432 : 0.2583\n",
      "161/432 : 0.2609\n",
      "171/432 : 0.2690\n",
      "181/432 : 0.2707\n",
      "191/432 : 0.2618\n",
      "201/432 : 0.2736\n",
      "211/432 : 0.2701\n",
      "221/432 : 0.2670\n",
      "231/432 : 0.2727\n",
      "241/432 : 0.2656\n",
      "251/432 : 0.2669\n",
      "261/432 : 0.2644\n",
      "271/432 : 0.2620\n",
      "281/432 : 0.2669\n",
      "291/432 : 0.2612\n",
      "301/432 : 0.2691\n",
      "311/432 : 0.2669\n",
      "321/432 : 0.2648\n",
      "331/432 : 0.2659\n",
      "341/432 : 0.2639\n",
      "351/432 : 0.2707\n",
      "361/432 : 0.2687\n",
      "371/432 : 0.2695\n",
      "381/432 : 0.2782\n",
      "391/432 : 0.2839\n",
      "401/432 : 0.2968\n",
      "411/432 : 0.2895\n",
      "421/432 : 0.2945\n",
      "431/432 : 0.2923\n",
      "Final : 0.2940\n"
     ]
    }
   ],
   "source": [
    "picks = []\n",
    "corrects = []\n",
    "\n",
    "for idx,q in enumerate(questions):\n",
    "    \n",
    "    correct = q['answerKey']\n",
    "    \n",
    "    out = wtil.extract(q)\n",
    "    tuples = {k:set(gtil.query(t)) for k,t in out.items()}\n",
    "    f = {}\n",
    "    for i, (k, t) in enumerate(tuples.items()):\n",
    "        common = set()\n",
    "        for j, (k2, s) in enumerate(tuples.items()):\n",
    "            if i == j:\n",
    "                continue\n",
    "            common.update(s)\n",
    "        f[k] = t.difference(common)\n",
    "    total = sum([len(v)+1 for v in f.values()])\n",
    "\n",
    "    confidences = {k:len(v)/total for k,v in f.items()}\n",
    "    \n",
    "    pick = sorted(confidences.items(), key=lambda x: x[1])[-1][0]\n",
    "    picks.append(pick)\n",
    "    corrects.append(correct)\n",
    "    \n",
    "    acc = sum(1 for p,c in zip(picks,corrects) if p==c)/(idx+1)\n",
    "    if idx % 10 == 0:\n",
    "        print('{}/{} : {:.4f}'.format(idx+1,len(questions), acc))\n",
    "acc = sum(1 for p,c in zip(picks,corrects) if p==c)/len(questions)\n",
    "print('Final : {:.4f}'.format(acc))\n",
    "    "
   ]
  },
  {
   "cell_type": "code",
   "execution_count": 16,
   "metadata": {},
   "outputs": [
    {
     "data": {
      "text/plain": [
       "0.22818791946308725"
      ]
     },
     "execution_count": 16,
     "metadata": {},
     "output_type": "execute_result"
    }
   ],
   "source": []
  },
  {
   "cell_type": "code",
   "execution_count": null,
   "metadata": {},
   "outputs": [],
   "source": []
  }
 ],
 "metadata": {
  "kernelspec": {
   "display_name": "Python 3",
   "language": "python",
   "name": "python3"
  },
  "language_info": {
   "codemirror_mode": {
    "name": "ipython",
    "version": 3
   },
   "file_extension": ".py",
   "mimetype": "text/x-python",
   "name": "python",
   "nbconvert_exporter": "python",
   "pygments_lexer": "ipython3",
   "version": "3.7.2"
  }
 },
 "nbformat": 4,
 "nbformat_minor": 2
}

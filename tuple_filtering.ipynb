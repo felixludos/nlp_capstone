{
 "cells": [
  {
   "cell_type": "code",
   "execution_count": null,
   "metadata": {},
   "outputs": [],
   "source": [
    "%load_ext autoreload\n",
    "%autoreload 2"
   ]
  },
  {
   "cell_type": "code",
   "execution_count": 21,
   "metadata": {
    "pycharm": {
     "is_executing": false
    }
   },
   "outputs": [],
   "source": [
    "import math\n",
    "\n",
    "import torch\n",
    "from pytorch_pretrained_bert import BertTokenizer, BertForMaskedLM\n",
    "from tqdm import tqdm_notebook"
   ]
  },
  {
   "cell_type": "code",
   "execution_count": 22,
   "metadata": {
    "pycharm": {
     "name": "#%%\n"
    }
   },
   "outputs": [],
   "source": [
    "bert_model = BertForMaskedLM.from_pretrained('bert-base-uncased')\n",
    "bert_tokenizer = BertTokenizer.from_pretrained('bert-base-uncased')"
   ]
  },
  {
   "cell_type": "code",
   "execution_count": 37,
   "metadata": {
    "pycharm": {
     "is_executing": false,
     "name": "#%%\n"
    }
   },
   "outputs": [],
   "source": [
    "def get_score(sentence: str):\n",
    "    tokenize_input = bert_tokenizer.tokenize(sentence)\n",
    "    tensor_input = torch.tensor([bert_tokenizer.convert_tokens_to_ids(tokenize_input)])\n",
    "    predictions = bert_model(tensor_input)\n",
    "    loss_fct = torch.nn.CrossEntropyLoss()\n",
    "    loss = loss_fct(predictions.squeeze(), tensor_input.squeeze()).data\n",
    "    return math.exp(loss)\n",
    "\n",
    "def sorted_tuple_scores(tuple_data_path: str):\n",
    "    scores = []\n",
    "    with open(tuple_data_path, 'r') as f:\n",
    "        for line in tqdm_notebook(f.readlines()):\n",
    "            line = line.strip()\n",
    "            sentence = \" \".join(line.split('\\t'))\n",
    "            scores.append((line, get_score(sentence)))\n",
    "    scores.sort(key=lambda x: x[1])\n",
    "    return scores\n",
    "\n",
    "def print_scores(scores: list):\n",
    "    print(\"Lowest losses:\")\n",
    "    print(*scores[:5], sep=\"\\n\")\n",
    "    print()\n",
    "\n",
    "    print(\"Highest losses:\")\n",
    "    print(*scores[-5:], sep=\"\\n\")"
   ]
  },
  {
   "cell_type": "code",
   "execution_count": 38,
   "metadata": {},
   "outputs": [],
   "source": [
    "# aristo_scores = sorted_tuple_scores('data/aristo.txt')\n",
    "# print(aristo_scores)"
   ]
  },
  {
   "cell_type": "code",
   "execution_count": 39,
   "metadata": {
    "pycharm": {
     "is_executing": false,
     "name": "#%%\n"
    },
    "scrolled": true
   },
   "outputs": [
    {
     "data": {
      "application/vnd.jupyter.widget-view+json": {
       "model_id": "e02da07ce0ac4382a7005fdf7dac40bd",
       "version_major": 2,
       "version_minor": 0
      },
      "text/plain": [
       "HBox(children=(IntProgress(value=0, max=3793), HTML(value='')))"
      ]
     },
     "metadata": {},
     "output_type": "display_data"
    },
    {
     "name": "stdout",
     "output_type": "stream",
     "text": [
      "Lowest losses:\n",
      "('most canyons\\tflowing rivers over\\tlong periods of time', 2.158749725759598)\n",
      "('environment\\tis cold at\\tnorthern lattitude below 0 degrees celsius during most of year', 3.8701482849718687)\n",
      "('example\\tis\\tchimpanzee digging for insects with stick', 4.059842366680984)\n",
      "('tidal range\\tis measure of\\tvertical distance from high tide to low tide', 4.235079800987837)\n",
      "('environment\\tis cold at\\tlattitude below 0 degrees celsius', 4.264977688931828)\n",
      "\n",
      "Highest losses:\n",
      "('magnet\\tattracts\\tmagnetic metals', 393452.34152887564)\n",
      "('animal\\trequires\\twarmth', 401064.8271481339)\n",
      "('plant stem\\tcontains\\tsystem', 607878.2838986012)\n",
      "('animal\\trequires\\tnutrients', 684915.5461811321)\n",
      "('rains\\tcause\\tflooding', 1846387.2594818242)\n"
     ]
    }
   ],
   "source": [
    "openbook_scores = sorted_tuple_scores('data/openbook_tuples.tsv')\n",
    "print_scores(openbook_scores)"
   ]
  },
  {
   "cell_type": "code",
   "execution_count": 40,
   "metadata": {},
   "outputs": [],
   "source": [
    "with open('data/sorted_openbook_tuples.tsv', 'w') as f:\n",
    "    print(*(x[0] for x in openbook_scores), sep='\\n', file=f)"
   ]
  },
  {
   "cell_type": "code",
   "execution_count": null,
   "metadata": {},
   "outputs": [],
   "source": []
  }
 ],
 "metadata": {
  "kernelspec": {
   "display_name": "Python 3",
   "language": "python",
   "name": "python3"
  },
  "language_info": {
   "codemirror_mode": {
    "name": "ipython",
    "version": 3
   },
   "file_extension": ".py",
   "mimetype": "text/x-python",
   "name": "python",
   "nbconvert_exporter": "python",
   "pygments_lexer": "ipython3",
   "version": "3.7.3"
  },
  "pycharm": {
   "stem_cell": {
    "cell_type": "raw",
    "metadata": {
     "collapsed": false
    },
    "source": []
   }
  }
 },
 "nbformat": 4,
 "nbformat_minor": 1
}

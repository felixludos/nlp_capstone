{
 "cells": [
  {
   "cell_type": "code",
   "execution_count": 12,
   "metadata": {},
   "outputs": [
    {
     "name": "stdout",
     "output_type": "stream",
     "text": [
      "Looking up relation types in the edge files...\n",
      "- Found 4110 relation types\n",
      "- Removing the ones with fewer than 1 occurrences...\n",
      "- Left with 4110 relation types\n",
      "- Shuffling them...\n",
      "Searching for the entities in the edge files...\n",
      "Entity type all:\n",
      "- Found 9022 entities\n",
      "- Removing the ones with fewer than 1 occurrences...\n",
      "- Left with 9022 entities\n",
      "- Shuffling them...\n",
      "Preparing entity path data/aristo:\n",
      "- Writing count of entity type all and partition 0\n",
      "- Writing count of dynamic relations\n",
      "Preparing edge path data/aristo_partitioned, out of the edges found in data/aristo.txt\n",
      "- Edges will be partitioned in 1 x 1 buckets.\n",
      "- Processed 100000 edges so far...\n",
      "- Processed 200000 edges so far...\n",
      "- Processed 282594 edges in total\n",
      "- Writing bucket (0, 0), containing 282594 edges...\n"
     ]
    }
   ],
   "source": [
    "# Creates BigGraph files for the aristo graph\n",
    "aristo_tuples_path = 'data/aristo.txt'\n",
    "aristo_config_path = 'tuple_embeddings/aristo_config.py'\n",
    "\n",
    "! torchbiggraph_import_from_tsv --lhs-col=0 --rel-col=1 --rhs-col=2 {aristo_config_path} {aristo_tuples_path}"
   ]
  },
  {
   "cell_type": "code",
   "execution_count": 24,
   "metadata": {},
   "outputs": [
    {
     "data": {
      "text/plain": [
       "{'entity_path': 'data/aristo',\n",
       " 'edge_paths': [],\n",
       " 'checkpoint_path': 'model/aristo',\n",
       " 'entities': {'all': {'num_partitions': 1}},\n",
       " 'relations': [{'name': 'all_edges',\n",
       "   'lhs': 'all',\n",
       "   'rhs': 'all',\n",
       "   'operator': 'complex_diagonal'}],\n",
       " 'dynamic_relations': True,\n",
       " 'dimension': 400,\n",
       " 'global_emb': False,\n",
       " 'comparator': 'dot',\n",
       " 'num_epochs': 50,\n",
       " 'num_uniform_negs': 1000,\n",
       " 'loss_fn': 'softmax',\n",
       " 'lr': 0.1,\n",
       " 'eval_fraction': 0}"
      ]
     },
     "execution_count": 24,
     "metadata": {},
     "output_type": "execute_result"
    }
   ],
   "source": [
    "# Get aristo data path from config file\n",
    "from tuple_embeddings import aristo_config\n",
    "\n",
    "config = aristo_config.get_torchbiggraph_config()\n",
    "aristo_data_path = config[\"entity_path\"]\n",
    "\n",
    "config"
   ]
  },
  {
   "cell_type": "code",
   "execution_count": 29,
   "metadata": {
    "pycharm": {
     "is_executing": false
    }
   },
   "outputs": [
    {
     "name": "stdout",
     "text": [
      "Traceback (most recent call last):\r\n  File \"/home/sam/anaconda3/envs/nlp_capstone/bin/torchbiggraph_train\", line 10, in <module>\r\n    sys.exit(main())\r\n  File \"/home/sam/anaconda3/envs/nlp_capstone/lib/python3.7/site-packages/torchbiggraph/train.py\", line 825, in main\r\n    config = parse_config(opt.config, overrides)\r\n  File \"/home/sam/anaconda3/envs/nlp_capstone/lib/python3.7/site-packages/torchbiggraph/config.py\", line 435, in parse_config\r\n    config_dict = get_config_dict_from_module(config_filename)\r\n  File \"/home/sam/anaconda3/envs/nlp_capstone/lib/python3.7/site-packages/torchbiggraph/config.py\", line 403, in get_config_dict_from_module\r\n    module = importlib.util.module_from_spec(spec)\r\n  File \"<frozen importlib._bootstrap>\", line 580, in module_from_spec\r\nAttributeError: 'NoneType' object has no attribute 'loader'\r\n"
     ],
     "output_type": "stream"
    }
   ],
   "source": [
    "edge_paths_path = 'data/aristo_partitioned'\n",
    "\n",
    "! torchbiggraph_train {aristo_config_path} -p edge_paths={aristo_partitioned}"
   ]
  },
  {
   "cell_type": "code",
   "execution_count": null,
   "metadata": {},
   "outputs": [],
   "source": []
  }
 ],
 "metadata": {
  "kernelspec": {
   "display_name": "PyCharm (cartoons)",
   "language": "python",
   "name": "pycharm-c16fb81d"
  },
  "language_info": {
   "codemirror_mode": {
    "name": "ipython",
    "version": 3
   },
   "file_extension": ".py",
   "mimetype": "text/x-python",
   "name": "python",
   "nbconvert_exporter": "python",
   "pygments_lexer": "ipython3",
   "version": "3.7.3"
  }
 },
 "nbformat": 4,
 "nbformat_minor": 2
}
{
 "cells": [
  {
   "cell_type": "code",
   "execution_count": 17,
   "metadata": {},
   "outputs": [],
   "source": [
    "import sys, os, time\n",
    "import numpy as np\n",
    "%matplotlib inline\n",
    "import matplotlib.pyplot as plt\n",
    "from tqdm import tqdm\n",
    "import csv\n",
    "import util\n",
    "import nltk"
   ]
  },
  {
   "cell_type": "code",
   "execution_count": 19,
   "metadata": {
    "scrolled": true
   },
   "outputs": [],
   "source": [
    "# nltk.pos_tag(tokens)"
   ]
  },
  {
   "cell_type": "code",
   "execution_count": null,
   "metadata": {
    "collapsed": true
   },
   "outputs": [],
   "source": []
  },
  {
   "cell_type": "code",
   "execution_count": 2,
   "metadata": {
    "collapsed": true
   },
   "outputs": [],
   "source": [
    "path = '../../../Downloads/aristo-tuple-kb-v5-mar2017/aristo.txt'"
   ]
  },
  {
   "cell_type": "code",
   "execution_count": 3,
   "metadata": {
    "collapsed": true
   },
   "outputs": [],
   "source": [
    "G = util.adict()\n",
    "iG = util.adict()"
   ]
  },
  {
   "cell_type": "code",
   "execution_count": 4,
   "metadata": {},
   "outputs": [
    {
     "name": "stderr",
     "output_type": "stream",
     "text": [
      "282594it [00:02, 127907.19it/s]\n"
     ]
    }
   ],
   "source": [
    "with open(path, 'r') as tsvfile:\n",
    "    reader = csv.reader(tsvfile, delimiter='\\t')\n",
    "    for i, row in tqdm(enumerate(reader)):\n",
    "        sub, rel, obj = row\n",
    "        if sub not in G:\n",
    "            G[sub] = util.adict()\n",
    "        if rel not in G[sub]:\n",
    "            G[sub][rel] = set()\n",
    "        G[sub][rel].add(obj)\n",
    "        if obj not in iG:\n",
    "            iG[obj] = util.adict()\n",
    "        if rel not in iG[obj]:\n",
    "            iG[obj][rel] = set()\n",
    "        iG[obj][rel].add(sub)"
   ]
  },
  {
   "cell_type": "code",
   "execution_count": 5,
   "metadata": {},
   "outputs": [
    {
     "data": {
      "text/plain": [
       "1605"
      ]
     },
     "execution_count": 5,
     "metadata": {},
     "output_type": "execute_result"
    }
   ],
   "source": [
    "relations = set()\n",
    "for sub, rels in G.items():\n",
    "    relations.update(rels)\n",
    "len(relations)"
   ]
  },
  {
   "cell_type": "code",
   "execution_count": 6,
   "metadata": {},
   "outputs": [
    {
     "data": {
      "text/plain": [
       "(3.6468053280148158, 10.542663062141266)"
      ]
     },
     "execution_count": 6,
     "metadata": {},
     "output_type": "execute_result"
    }
   ],
   "source": [
    "outs = []\n",
    "for sub, rels in G.items():\n",
    "    outs.append(len(rels))\n",
    "outs = np.array(outs)\n",
    "outs.mean(), outs.std()"
   ]
  },
  {
   "cell_type": "code",
   "execution_count": 7,
   "metadata": {},
   "outputs": [
    {
     "data": {
      "text/plain": [
       "0.39044803760951635"
      ]
     },
     "execution_count": 7,
     "metadata": {},
     "output_type": "execute_result"
    }
   ],
   "source": [
    "(outs > 1).sum() / len(outs)"
   ]
  },
  {
   "cell_type": "code",
   "execution_count": 8,
   "metadata": {},
   "outputs": [
    {
     "data": {
      "image/png": "[encoded data removed]",
      "text/plain": [
       "<matplotlib.figure.Figure at 0x7fbf0b30cf60>"
      ]
     },
     "metadata": {},
     "output_type": "display_data"
    }
   ],
   "source": [
    "plt.hist(outs, bins=50)\n",
    "pass"
   ]
  },
  {
   "cell_type": "code",
   "execution_count": 9,
   "metadata": {
    "collapsed": true
   },
   "outputs": [],
   "source": [
    "def _search(key, graph, tokens, threshold, fuel, root=[], collected=set()):\n",
    "    if fuel == 0 or key not in graph:\n",
    "        root.append(key)\n",
    "        overlap = len(tokens.intersection(root))\n",
    "        if overlap >= threshold:\n",
    "            collected.add('\\t'.join(root))\n",
    "    else:\n",
    "\n",
    "        fuel -= 1\n",
    "        \n",
    "        root.append(key)\n",
    "        for rel in graph[key]:\n",
    "            rroot = root.copy()\n",
    "            rroot.append(rel)\n",
    "            for obj in graph[key][rel]:\n",
    "                if fuel > 0:\n",
    "                    _search(obj, graph, tokens, threshold, 0, rroot.copy(), collected)\n",
    "                _search(obj, graph, tokens, threshold, fuel, rroot.copy(), collected)\n",
    "\n",
    "    return collected\n",
    "\n",
    "\n",
    "def query(tokens, level=2, threshold=2, limit=50):\n",
    "    out = []\n",
    "    for sub in G:\n",
    "        if sub in tokens:\n",
    "            \n",
    "            out.extend(_search(sub, G, tokens, threshold, level, root=[]))\n",
    "            if len(out) > limit:\n",
    "                return out\n",
    "    return out"
   ]
  },
  {
   "cell_type": "code",
   "execution_count": null,
   "metadata": {},
   "outputs": [],
   "source": []
  },
  {
   "cell_type": "code",
   "execution_count": 10,
   "metadata": {},
   "outputs": [
    {
     "data": {
      "text/plain": [
       "6968"
      ]
     },
     "execution_count": 10,
     "metadata": {},
     "output_type": "execute_result"
    }
   ],
   "source": [
    "out = query({'food', 'plants', 'produce', 'future'}, level=2, threshold=2)\n",
    "out = list(sorted(list(out), key=lambda x: len(x[1]), reverse=True))\n",
    "len(out)"
   ]
  },
  {
   "cell_type": "code",
   "execution_count": 11,
   "metadata": {},
   "outputs": [
    {
     "name": "stdout",
     "output_type": "stream",
     "text": [
      "partial ['food', 'produce', 'plant', 'affect', 'future growth']\n"
     ]
    }
   ],
   "source": [
    "ans = 'future'\n",
    "for w in out:\n",
    "    tokens = w.split('\\t')\n",
    "    if ans in tokens:\n",
    "        print(tokens)\n",
    "    else:\n",
    "        for t in tokens:\n",
    "            if ans in t:\n",
    "                print('partial', tokens)"
   ]
  },
  {
   "cell_type": "code",
   "execution_count": 12,
   "metadata": {},
   "outputs": [
    {
     "name": "stdout",
     "output_type": "stream",
     "text": [
      "food\tproduce\teffect\thave\timpact\n",
      "food\tproduce\tplant\thave\tbranch habit\n",
      "food\ttrigger\treaction\tproduce\twave\n",
      "food\tproduce\tenergy\tuse\trechargeable battery\n",
      "food\tproduce\tplant\thave\theart\n"
     ]
    }
   ],
   "source": [
    "for w in out[:5]:\n",
    "    print(w)"
   ]
  },
  {
   "cell_type": "code",
   "execution_count": 155,
   "metadata": {},
   "outputs": [
    {
     "data": {
      "text/plain": [
       "False"
      ]
     },
     "execution_count": 155,
     "metadata": {},
     "output_type": "execute_result"
    }
   ],
   "source": [
    "'shape' in G.matter"
   ]
  },
  {
   "cell_type": "code",
   "execution_count": 107,
   "metadata": {},
   "outputs": [
    {
     "name": "stdout",
     "output_type": "stream",
     "text": [
      "matter have shape\n"
     ]
    }
   ],
   "source": [
    "for rel in G.matter:\n",
    "    if 'shape' in G.matter[rel]:\n",
    "        print('matter', rel, 'shape')"
   ]
  },
  {
   "cell_type": "code",
   "execution_count": 26,
   "metadata": {
    "collapsed": true
   },
   "outputs": [],
   "source": [
    "# Plants and animals need food for growth. What happens to most of the food that plants produce?\n",
    "# A: food is released as gas\n",
    "# B: food is converted to water\n",
    "# C: food is stored for future use\n",
    "# D: food is used to absorb sunlight\n",
    "\n",
    "# The distance between Richmond and Norfolk is best measured in __.\n",
    "# A: kilometers\n",
    "# B: meters\n",
    "# C: centimeters\n",
    "# D: millimeters\n",
    "\n",
    "# What state of matter has no definite volume and no definite shape?\n",
    "# A: gas\n",
    "# B: liquid\n",
    "# C: solid"
   ]
  },
  {
   "cell_type": "code",
   "execution_count": 27,
   "metadata": {},
   "outputs": [
    {
     "data": {
      "text/plain": [
       "(['state', 'matter', 'volume', 'shape'], [], [])"
      ]
     },
     "execution_count": 27,
     "metadata": {},
     "output_type": "execute_result"
    }
   ],
   "source": [
    "direct, sub_mat, obj_mat = query('state', 'matter', 'volume', 'shape')\n",
    "direct, sub_mat, obj_mat"
   ]
  },
  {
   "cell_type": "code",
   "execution_count": 36,
   "metadata": {
    "collapsed": true
   },
   "outputs": [],
   "source": [
    "def match_answers(qinfo, answers):\n",
    "    matches = [[] for _ in answers]\n",
    "    for q in qinfo:\n",
    "        for m, a in zip(matches, answers):\n",
    "            for r in G[q]:\n",
    "                if a in G[q][r]:\n",
    "                    m.append((q, r, a))\n",
    "                \n",
    "    return matches"
   ]
  },
  {
   "cell_type": "code",
   "execution_count": 37,
   "metadata": {},
   "outputs": [
    {
     "data": {
      "text/plain": [
       "[[], [('matter', 'become', 'liquid'), ('matter', 'exist as', 'liquid')], []]"
      ]
     },
     "execution_count": 37,
     "metadata": {},
     "output_type": "execute_result"
    }
   ],
   "source": [
    "match_answers(direct, ['gas', 'liquid', 'solid'])"
   ]
  },
  {
   "cell_type": "code",
   "execution_count": null,
   "metadata": {
    "collapsed": true
   },
   "outputs": [],
   "source": []
  }
 ],
 "metadata": {
  "kernelspec": {
   "display_name": "Python 3",
   "language": "python",
   "name": "python3"
  },
  "language_info": {
   "codemirror_mode": {
    "name": "ipython",
    "version": 3
   },
   "file_extension": ".py",
   "mimetype": "text/x-python",
   "name": "python",
   "nbconvert_exporter": "python",
   "pygments_lexer": "ipython3",
   "version": "3.7.2"
  }
 },
 "nbformat": 4,
 "nbformat_minor": 2
}

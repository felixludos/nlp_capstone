{
 "cells": [
  {
   "cell_type": "code",
   "execution_count": 1,
   "metadata": {
    "collapsed": true,
    "pycharm": {
     "is_executing": false
    }
   },
   "outputs": [
    {
     "traceback": [
      "\u001b[0;31m---------------------------------------------------------------------------\u001b[0m",
      "\u001b[0;31mModuleNotFoundError\u001b[0m                       Traceback (most recent call last)",
      "\u001b[0;32m<ipython-input-1-3e12ca5d24e8>\u001b[0m in \u001b[0;36m<module>\u001b[0;34m\u001b[0m\n\u001b[0;32m----> 1\u001b[0;31m \u001b[0;32mimport\u001b[0m \u001b[0mopen_ie_api\u001b[0m\u001b[0;34m\u001b[0m\u001b[0;34m\u001b[0m\u001b[0m\n\u001b[0m\u001b[1;32m      2\u001b[0m \u001b[0;32mfrom\u001b[0m \u001b[0mpytorch_pretrained_bert\u001b[0m \u001b[0;32mimport\u001b[0m \u001b[0mBertTokenizer\u001b[0m\u001b[0;34m,\u001b[0m \u001b[0mBertForMaskedLM\u001b[0m\u001b[0;34m\u001b[0m\u001b[0;34m\u001b[0m\u001b[0m\n\u001b[1;32m      3\u001b[0m \u001b[0;32mimport\u001b[0m \u001b[0mtorch\u001b[0m\u001b[0;34m\u001b[0m\u001b[0;34m\u001b[0m\u001b[0m\n\u001b[1;32m      4\u001b[0m \u001b[0;32mimport\u001b[0m \u001b[0mmath\u001b[0m\u001b[0;34m\u001b[0m\u001b[0;34m\u001b[0m\u001b[0m\n",
      "\u001b[0;31mModuleNotFoundError\u001b[0m: No module named 'open_ie_api'"
     ],
     "ename": "ModuleNotFoundError",
     "evalue": "No module named 'open_ie_api'",
     "output_type": "error"
    }
   ],
   "source": [
    "import open_ie_api\n",
    "from pytorch_pretrained_bert import BertTokenizer, BertForMaskedLM\n",
    "import torch\n",
    "import math"
   ]
  },
  {
   "cell_type": "code",
   "execution_count": null,
   "outputs": [],
   "source": [
    "# Load data and models\n",
    "openbook_data_path = 'data/openbook.txt'\n",
    "# TODO: load fine-tuned model\n",
    "bert_model = BertForMaskedLM.from_pretrained('bert-base-uncased')\n",
    "bert_tokenizer = BertTokenizer.from_pretrained('bert-base-uncased')"
   ],
   "metadata": {
    "collapsed": false,
    "pycharm": {
     "name": "#%%\n"
    }
   }
  },
  {
   "cell_type": "code",
   "execution_count": null,
   "outputs": [],
   "source": [
    "def get_score(sentence: str):\n",
    "    tokenize_input = bert_tokenizer.tokenize(sentence)\n",
    "    tensor_input = torch.tensor([bert_tokenizer.convert_tokens_to_ids(tokenize_input)])\n",
    "    predictions = bert_model(tensor_input)\n",
    "    loss_fct = torch.nn.CrossEntropyLoss()\n",
    "    loss = loss_fct(predictions.squeeze(), tensor_input.squeeze()).data\n",
    "    return math.exp(loss)"
   ],
   "metadata": {
    "collapsed": false,
    "pycharm": {
     "name": "#%%\n"
    }
   }
  },
  {
   "cell_type": "code",
   "execution_count": null,
   "outputs": [],
   "source": [
    "# Define methods for aristo and openbook tuples\n",
    "def print_aristo_scores():\n",
    "    scores = []\n",
    "    with open('data/aristo.txt', 'r') as f:\n",
    "        for line in f:\n",
    "            sentence = \" \".join(line.strip().split('\\t'))\n",
    "            scores.append((sentence, get_score(sentence)))\n",
    "    scores.sort(key=lambda x: x[1])\n",
    "    print(scores)\n",
    "\n",
    "def print_openbookqa_scores():\n",
    "    scores = []\n",
    "    with open('outputs/openbook_tuples_old.txt', 'r') as f:\n",
    "        for line in f:\n",
    "            sentence = \" \".join(line.strip().split('\\t')[1:])\n",
    "            scores.append((sentence, get_score(sentence)))\n",
    "    scores.sort(key=lambda x: x[1], reverse=True)\n",
    "    print(*scores, sep='\\n')"
   ],
   "metadata": {
    "collapsed": false,
    "pycharm": {
     "name": "#%%\n"
    }
   }
  },
  {
   "cell_type": "code",
   "execution_count": null,
   "outputs": [],
   "source": [
    "# Load openbookqa tuples\n",
    "tuples = open_ie_api.call_api_many(openbook_data_path)\n"
   ],
   "metadata": {
    "collapsed": false,
    "pycharm": {
     "name": "#%%\n"
    }
   }
  }
 ],
 "metadata": {
  "language_info": {
   "codemirror_mode": {
    "name": "ipython",
    "version": 2
   },
   "file_extension": ".py",
   "mimetype": "text/x-python",
   "name": "python",
   "nbconvert_exporter": "python",
   "pygments_lexer": "ipython2",
   "version": "2.7.6"
  },
  "kernelspec": {
   "name": "python3",
   "language": "python",
   "display_name": "Python 3"
  },
  "pycharm": {
   "stem_cell": {
    "cell_type": "raw",
    "source": [],
    "metadata": {
     "collapsed": false
    }
   }
  }
 },
 "nbformat": 4,
 "nbformat_minor": 0
}